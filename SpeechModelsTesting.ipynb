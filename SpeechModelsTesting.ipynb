{
  "metadata": {
    "kernelspec": {
      "language": "python",
      "display_name": "Python 3",
      "name": "python3"
    },
    "language_info": {
      "pygments_lexer": "ipython3",
      "nbconvert_exporter": "python",
      "version": "3.6.4",
      "file_extension": ".py",
      "codemirror_mode": {
        "name": "ipython",
        "version": 3
      },
      "name": "python",
      "mimetype": "text/x-python"
    },
    "colab": {
      "name": "SpeechDetection bcd071",
      "provenance": [],
      "include_colab_link": true
    }
  },
  "nbformat_minor": 0,
  "nbformat": 4,
  "cells": [
    {
      "cell_type": "markdown",
      "metadata": {
        "id": "view-in-github",
        "colab_type": "text"
      },
      "source": [
        "<a href=\"https://colab.research.google.com/github/Nirmal369/jioq/blob/main/SpeechModelsTesting.ipynb\" target=\"_parent\"><img src=\"https://colab.research.google.com/assets/colab-badge.svg\" alt=\"Open In Colab\"/></a>"
      ]
    },
    {
      "source": [
        "\n",
        "# IMPORTANT: RUN THIS CELL IN ORDER TO IMPORT YOUR KAGGLE DATA SOURCES\n",
        "# TO THE CORRECT LOCATION (/kaggle/input) IN YOUR NOTEBOOK,\n",
        "# THEN FEEL FREE TO DELETE THIS CELL.\n",
        "# NOTE: THIS NOTEBOOK ENVIRONMENT DIFFERS FROM KAGGLE'S PYTHON\n",
        "# ENVIRONMENT SO THERE MAY BE MISSING LIBRARIES USED BY YOUR\n",
        "# NOTEBOOK.\n",
        "\n",
        "import os\n",
        "import sys\n",
        "from tempfile import NamedTemporaryFile\n",
        "from urllib.request import urlopen\n",
        "from urllib.parse import unquote, urlparse\n",
        "from urllib.error import HTTPError\n",
        "from zipfile import ZipFile\n",
        "import tarfile\n",
        "import shutil\n",
        "\n",
        "CHUNK_SIZE = 40960\n",
        "DATA_SOURCE_MAPPING = 'speech-accent-archive:https%3A%2F%2Fstorage.googleapis.com%2Fkaggle-data-sets%2F4114%2F6391%2Fbundle%2Farchive.zip%3FX-Goog-Algorithm%3DGOOG4-RSA-SHA256%26X-Goog-Credential%3Dgcp-kaggle-com%2540kaggle-161607.iam.gserviceaccount.com%252F20240416%252Fauto%252Fstorage%252Fgoog4_request%26X-Goog-Date%3D20240416T153638Z%26X-Goog-Expires%3D259200%26X-Goog-SignedHeaders%3Dhost%26X-Goog-Signature%3De7cdb57704069c9024ef0a0db1170165cd43dda579c6156ac2ffc1e7072da3f5c85f8e87cc4634252eb9c8c51f8a7ca77b50e3b044e41c4da7c57e5e7dc7c72b0ad2018f3330090137c50a99cba7c00550ef0b01d622345e44546b956240748cb97801492dce41f34a2effb5dce575e63a6edf292a07ce8465844513e6fd6480c8215a8916b5f914bc14a917e840ea1850a1694ef7685a87a8f096456fc9aeb04dd710186b62dab50c9f1aac00b30ceea2819773c0951a14e1bf3004ba7b8e02b02c74c24f99172ec950b637c0a194aa2ed47aeaca2c778c9077f014267baf3fbcddb35ab7a972eb842243affead2f5c15001fe684d2bd3153c289158a98424d,common-voice:https%3A%2F%2Fstorage.googleapis.com%2Fkaggle-data-sets%2F5793%2F9812%2Fbundle%2Farchive.zip%3FX-Goog-Algorithm%3DGOOG4-RSA-SHA256%26X-Goog-Credential%3Dgcp-kaggle-com%2540kaggle-161607.iam.gserviceaccount.com%252F20240416%252Fauto%252Fstorage%252Fgoog4_request%26X-Goog-Date%3D20240416T153638Z%26X-Goog-Expires%3D259200%26X-Goog-SignedHeaders%3Dhost%26X-Goog-Signature%3D2408af0f4368591efd1e257455d34e89b5b1bcfa00c1b9fb795dc9c21c681a5e48a84f225792856f2040da0bf81baafcac9c2a72e65e8b3141f36f316b8c11cd8f7141ab9955bf3558de111c88f25f1d28f8ffee167f7bb3223e954209a0a381be1b25ee9c9e3c1eda5f10a7f65b73c18822aa50dfe1f81bf8a66eaad2cb163bce392c3d28b385f9cb40cf5224d7d0aa856c1230c47ddef01e067ad2b82d70055b4da01e73abf016293e75efef148117e13c8d4808b46910bf6523dda2bc43eb22c53fb70d8d2db2bc9a81786fe298ac93760a705fb242adf0c145ecc4c1fb9dfe4460813bd6e11263ab49246861bc31228c71ce0b17185f199bf234758b339d'\n",
        "\n",
        "KAGGLE_INPUT_PATH='/kaggle/input'\n",
        "KAGGLE_WORKING_PATH='/kaggle/working'\n",
        "KAGGLE_SYMLINK='kaggle'\n",
        "\n",
        "!umount /kaggle/input/ 2> /dev/null\n",
        "shutil.rmtree('/kaggle/input', ignore_errors=True)\n",
        "os.makedirs(KAGGLE_INPUT_PATH, 0o777, exist_ok=True)\n",
        "os.makedirs(KAGGLE_WORKING_PATH, 0o777, exist_ok=True)\n",
        "\n",
        "try:\n",
        "  os.symlink(KAGGLE_INPUT_PATH, os.path.join(\"..\", 'input'), target_is_directory=True)\n",
        "except FileExistsError:\n",
        "  pass\n",
        "try:\n",
        "  os.symlink(KAGGLE_WORKING_PATH, os.path.join(\"..\", 'working'), target_is_directory=True)\n",
        "except FileExistsError:\n",
        "  pass\n",
        "\n",
        "for data_source_mapping in DATA_SOURCE_MAPPING.split(','):\n",
        "    directory, download_url_encoded = data_source_mapping.split(':')\n",
        "    download_url = unquote(download_url_encoded)\n",
        "    filename = urlparse(download_url).path\n",
        "    destination_path = os.path.join(KAGGLE_INPUT_PATH, directory)\n",
        "    try:\n",
        "        with urlopen(download_url) as fileres, NamedTemporaryFile() as tfile:\n",
        "            total_length = fileres.headers['content-length']\n",
        "            print(f'Downloading {directory}, {total_length} bytes compressed')\n",
        "            dl = 0\n",
        "            data = fileres.read(CHUNK_SIZE)\n",
        "            while len(data) > 0:\n",
        "                dl += len(data)\n",
        "                tfile.write(data)\n",
        "                done = int(50 * dl / int(total_length))\n",
        "                sys.stdout.write(f\"\\r[{'=' * done}{' ' * (50-done)}] {dl} bytes downloaded\")\n",
        "                sys.stdout.flush()\n",
        "                data = fileres.read(CHUNK_SIZE)\n",
        "            if filename.endswith('.zip'):\n",
        "              with ZipFile(tfile) as zfile:\n",
        "                zfile.extractall(destination_path)\n",
        "            else:\n",
        "              with tarfile.open(tfile.name) as tarfile:\n",
        "                tarfile.extractall(destination_path)\n",
        "            print(f'\\nDownloaded and uncompressed: {directory}')\n",
        "    except HTTPError as e:\n",
        "        print(f'Failed to load (likely expired) {download_url} to path {destination_path}')\n",
        "        continue\n",
        "    except OSError as e:\n",
        "        print(f'Failed to load {download_url} to path {destination_path}')\n",
        "        continue\n",
        "\n",
        "print('Data source import complete.')\n"
      ],
      "metadata": {
        "id": "uCyeEdCMjcUv"
      },
      "cell_type": "code",
      "outputs": [],
      "execution_count": null
    },
    {
      "cell_type": "code",
      "source": [
        "# This Python 3 environment comes with many helpful analytics libraries installed\n",
        "# It is defined by the kaggle/python Docker image: https://github.com/kaggle/docker-python\n",
        "# For example, here's several helpful packages to load\n",
        "\n",
        "import numpy as np # linear algebra\n",
        "import pandas as pd # data processing, CSV file I/O (e.g. pd.read_csv)\n",
        "\n",
        "# Input data files are available in the read-only \"../input/\" directory\n",
        "# For example, running this (by clicking run or pressing Shift+Enter) will list all files under the input directory\n",
        "\n",
        "import os\n",
        "for dirname, _, filenames in os.walk('/kaggle/input'):\n",
        "    for filename in filenames:\n",
        "        pass\n",
        "#         print(os.path.join(dirname, filename))\n",
        "\n",
        "\n",
        "# You can write up to 20GB to the current directory (/kaggle/working/) that gets preserved as output when you create a version using \"Save & Run All\"\n",
        "# You can also write temporary files to /kaggle/temp/, but they won't be saved outside of the current session"
      ],
      "metadata": {
        "_uuid": "0ed30ad1-117e-46b1-9349-b2b9e8dceb7e",
        "_cell_guid": "769732b9-a47c-4e7f-9fa7-4bf9eabd6ce7",
        "jupyter": {
          "outputs_hidden": false
        },
        "execution": {
          "iopub.status.busy": "2022-04-15T20:01:58.148653Z",
          "iopub.execute_input": "2022-04-15T20:01:58.149052Z",
          "iopub.status.idle": "2022-04-15T20:04:43.881429Z",
          "shell.execute_reply.started": "2022-04-15T20:01:58.148959Z",
          "shell.execute_reply": "2022-04-15T20:04:43.879891Z"
        },
        "trusted": true,
        "id": "BvRVRK-kjcVI"
      },
      "execution_count": null,
      "outputs": []
    },
    {
      "cell_type": "code",
      "source": [
        "import pandas as pd\n",
        "import os\n",
        "import math\n",
        "import numpy as np\n",
        "import matplotlib.pyplot as plt\n",
        "import IPython.display as ipd  # To play sound in the notebook\n",
        "import librosa\n",
        "import librosa.display\n",
        "from tqdm import *\n",
        "from keras.callbacks import (EarlyStopping, LearningRateScheduler,\n",
        "                             ModelCheckpoint, TensorBoard, ReduceLROnPlateau)\n",
        "!apt install -y ffmpeg\n",
        "# os.chdir(\"/kaggle/input/freesound-audio-tagging/audio_train\")\n",
        "#os.getcwd()\n",
        "os.chdir(\"/kaggle/input/speech-accent-archive/recordings\")\n",
        "import warnings\n",
        "warnings.filterwarnings('ignore')\n",
        "\n",
        "OUTPUT_DIR = '/kaggle/working/'\n"
      ],
      "metadata": {
        "_uuid": "d70bcc2c-8b33-4576-a02b-dc6c772ef3ce",
        "_cell_guid": "ecb2eaa9-d15e-420f-9ba8-860766a49f61",
        "jupyter": {
          "outputs_hidden": false
        },
        "execution": {
          "iopub.status.busy": "2022-04-15T20:05:15.993842Z",
          "iopub.execute_input": "2022-04-15T20:05:15.99413Z",
          "iopub.status.idle": "2022-04-15T20:05:24.543281Z",
          "shell.execute_reply.started": "2022-04-15T20:05:15.994101Z",
          "shell.execute_reply": "2022-04-15T20:05:24.542304Z"
        },
        "trusted": true,
        "id": "l8nfNraFjcVJ"
      },
      "execution_count": null,
      "outputs": []
    },
    {
      "cell_type": "code",
      "source": [
        "# Play female from Kentucky\n",
        "fname_f = 'recordings/' + 'english385.mp3'\n",
        "ipd.Audio(fname_f)"
      ],
      "metadata": {
        "_uuid": "3cb142ac-2f0a-4f07-b409-a88d1f6e597d",
        "_cell_guid": "9bd552a5-6eab-4d33-9e85-a53edf182543",
        "jupyter": {
          "outputs_hidden": false
        },
        "execution": {
          "iopub.status.busy": "2022-04-15T20:05:24.545945Z",
          "iopub.execute_input": "2022-04-15T20:05:24.546456Z",
          "iopub.status.idle": "2022-04-15T20:05:24.599018Z",
          "shell.execute_reply.started": "2022-04-15T20:05:24.546417Z",
          "shell.execute_reply": "2022-04-15T20:05:24.598409Z"
        },
        "trusted": true,
        "id": "4uSs87s5jcVK"
      },
      "execution_count": null,
      "outputs": []
    },
    {
      "cell_type": "code",
      "source": [
        "filename = '/kaggle/input/common-voice/cv-other-test/cv-other-test/sample-001204.mp3'\n",
        "ipd.Audio(filename)"
      ],
      "metadata": {
        "execution": {
          "iopub.status.busy": "2022-04-15T20:05:38.28238Z",
          "iopub.execute_input": "2022-04-15T20:05:38.282926Z",
          "iopub.status.idle": "2022-04-15T20:05:38.301717Z",
          "shell.execute_reply.started": "2022-04-15T20:05:38.282887Z",
          "shell.execute_reply": "2022-04-15T20:05:38.300849Z"
        },
        "trusted": true,
        "id": "-T95GLLejcVL"
      },
      "execution_count": null,
      "outputs": []
    },
    {
      "cell_type": "code",
      "source": [
        "# Play male from Kentucky\n",
        "fname_m = 'recordings/' + 'english381.mp3'\n",
        "ipd.Audio(fname_m)"
      ],
      "metadata": {
        "_uuid": "404f5d76-076f-48c9-8015-5814eee7a7ee",
        "_cell_guid": "3d4c6632-4549-453c-9c48-02a14f025f20",
        "jupyter": {
          "outputs_hidden": false
        },
        "execution": {
          "iopub.status.busy": "2022-04-12T15:03:18.740851Z",
          "iopub.execute_input": "2022-04-12T15:03:18.741177Z",
          "iopub.status.idle": "2022-04-12T15:03:18.798824Z",
          "shell.execute_reply.started": "2022-04-12T15:03:18.741112Z",
          "shell.execute_reply": "2022-04-12T15:03:18.797946Z"
        },
        "trusted": true,
        "id": "Aqj0LjG7jcVM"
      },
      "execution_count": null,
      "outputs": []
    },
    {
      "cell_type": "code",
      "source": [
        "# MFCC for female\n",
        "SAMPLE_RATE = 22050\n",
        "fname_f = 'recordings/' + 'english385.mp3'\n",
        "\n",
        "y, sr = librosa.load(fname_f, sr=SAMPLE_RATE, duration = 20)# Chop audio at 10 secs...\n",
        "mfcc = librosa.feature.mfcc(y=y, sr=SAMPLE_RATE, n_mfcc = 13)# 10 MFCC components\n",
        "\n",
        "plt.figure(figsize=(15, 7))\n",
        "plt.subplot(3,1,1)\n",
        "librosa.display.specshow(mfcc)\n",
        "plt.ylabel('MFCC')\n",
        "plt.colorbar()"
      ],
      "metadata": {
        "_uuid": "a8ba1655-6476-4e67-a73c-c815c2e3aa29",
        "_cell_guid": "54878a6e-1c63-4ce0-8032-43562f39277a",
        "jupyter": {
          "outputs_hidden": false
        },
        "execution": {
          "iopub.status.busy": "2022-04-12T15:03:18.800198Z",
          "iopub.execute_input": "2022-04-12T15:03:18.800913Z",
          "iopub.status.idle": "2022-04-12T15:03:22.029036Z",
          "shell.execute_reply.started": "2022-04-12T15:03:18.800869Z",
          "shell.execute_reply": "2022-04-12T15:03:22.028375Z"
        },
        "trusted": true,
        "id": "Wex8OzkXjcVN"
      },
      "execution_count": null,
      "outputs": []
    },
    {
      "cell_type": "code",
      "source": [
        "# MFCC for male\n",
        "SAMPLE_RATE = 22050\n",
        "fname_m = 'recordings/' + 'english381.mp3'\n",
        "y, sr = librosa.load(fname_m, sr=SAMPLE_RATE, duration = 20)\n",
        "mfcc = librosa.feature.mfcc(y=y, sr=SAMPLE_RATE, n_mfcc = 13)\n",
        "\n",
        "plt.figure(figsize=(15, 7))\n",
        "plt.subplot(3,1,1)\n",
        "librosa.display.specshow(mfcc, x_axis='time')\n",
        "plt.ylabel('MFCC')\n",
        "plt.colorbar()"
      ],
      "metadata": {
        "_uuid": "d489acd2-afb6-4cad-98a6-06f291177c43",
        "_cell_guid": "b7ecc8c4-17ff-4ae1-9fd0-b23aad53ca30",
        "jupyter": {
          "outputs_hidden": false
        },
        "execution": {
          "iopub.status.busy": "2022-04-12T15:03:22.030239Z",
          "iopub.execute_input": "2022-04-12T15:03:22.030653Z",
          "iopub.status.idle": "2022-04-12T15:03:23.454364Z",
          "shell.execute_reply.started": "2022-04-12T15:03:22.030621Z",
          "shell.execute_reply": "2022-04-12T15:03:23.453242Z"
        },
        "trusted": true,
        "id": "-TtA_03HjcVO"
      },
      "execution_count": null,
      "outputs": []
    },
    {
      "cell_type": "code",
      "source": [
        "data = pd.read_csv('/kaggle/input/speech-accent-archive/speakers_all.csv')"
      ],
      "metadata": {
        "_uuid": "9d9aa687-1608-4186-b3d5-c9f91375017f",
        "_cell_guid": "f64fe970-cf6b-42ad-b4e7-97e1dbe3ce3a",
        "jupyter": {
          "outputs_hidden": false
        },
        "execution": {
          "iopub.status.busy": "2022-04-12T15:03:23.456258Z",
          "iopub.execute_input": "2022-04-12T15:03:23.457316Z",
          "iopub.status.idle": "2022-04-12T15:03:23.483414Z",
          "shell.execute_reply.started": "2022-04-12T15:03:23.45725Z",
          "shell.execute_reply": "2022-04-12T15:03:23.482473Z"
        },
        "trusted": true,
        "id": "HzBZLYoAjcVQ"
      },
      "execution_count": null,
      "outputs": []
    },
    {
      "cell_type": "code",
      "source": [
        "data.head()"
      ],
      "metadata": {
        "_uuid": "9c703657-8bed-41cb-b045-fe0d60a10de3",
        "_cell_guid": "0c324521-947d-4aea-8cba-f4125a2e03c7",
        "jupyter": {
          "outputs_hidden": false
        },
        "execution": {
          "iopub.status.busy": "2022-04-12T15:03:23.484994Z",
          "iopub.execute_input": "2022-04-12T15:03:23.485819Z",
          "iopub.status.idle": "2022-04-12T15:03:23.512947Z",
          "shell.execute_reply.started": "2022-04-12T15:03:23.485742Z",
          "shell.execute_reply": "2022-04-12T15:03:23.512323Z"
        },
        "trusted": true,
        "id": "oELfZvN2jcVR"
      },
      "execution_count": null,
      "outputs": []
    },
    {
      "cell_type": "code",
      "source": [
        "data.tail()"
      ],
      "metadata": {
        "_uuid": "8c74ad46-3ddd-4eaa-8b32-1a5126f2a93f",
        "_cell_guid": "13385ff8-8a99-4048-8c3b-632706dc1d10",
        "jupyter": {
          "outputs_hidden": false
        },
        "execution": {
          "iopub.status.busy": "2022-04-12T15:03:23.514109Z",
          "iopub.execute_input": "2022-04-12T15:03:23.514778Z",
          "iopub.status.idle": "2022-04-12T15:03:23.534002Z",
          "shell.execute_reply.started": "2022-04-12T15:03:23.514744Z",
          "shell.execute_reply": "2022-04-12T15:03:23.533364Z"
        },
        "trusted": true,
        "id": "gZWQ305VjcVS"
      },
      "execution_count": null,
      "outputs": []
    },
    {
      "cell_type": "code",
      "source": [
        "data[data['native_language']=='english']"
      ],
      "metadata": {
        "_uuid": "50cac7a0-6c91-4c43-8b50-353c03082a0c",
        "_cell_guid": "15ab8f58-f540-4297-9420-a370dd42c663",
        "jupyter": {
          "outputs_hidden": false
        },
        "execution": {
          "iopub.status.busy": "2022-04-12T15:03:23.537187Z",
          "iopub.execute_input": "2022-04-12T15:03:23.537414Z",
          "iopub.status.idle": "2022-04-12T15:03:23.573863Z",
          "shell.execute_reply.started": "2022-04-12T15:03:23.537386Z",
          "shell.execute_reply": "2022-04-12T15:03:23.573056Z"
        },
        "trusted": true,
        "id": "E6eVsL8DjcVS"
      },
      "execution_count": null,
      "outputs": []
    },
    {
      "cell_type": "code",
      "source": [
        "data[data['file_missing?']=='True'].count()"
      ],
      "metadata": {
        "_uuid": "f0cee248-d551-4c8d-9742-b3595035ed79",
        "_cell_guid": "1c90d159-b41f-4b0b-bfdd-3405ffd35e0d",
        "jupyter": {
          "outputs_hidden": false
        },
        "execution": {
          "iopub.status.busy": "2022-04-12T15:03:23.575404Z",
          "iopub.execute_input": "2022-04-12T15:03:23.576379Z",
          "iopub.status.idle": "2022-04-12T15:03:23.589524Z",
          "shell.execute_reply.started": "2022-04-12T15:03:23.57633Z",
          "shell.execute_reply": "2022-04-12T15:03:23.588699Z"
        },
        "trusted": true,
        "id": "Mk4KyHF6jcVT"
      },
      "execution_count": null,
      "outputs": []
    },
    {
      "cell_type": "markdown",
      "source": [
        "Let's found gender class distribution:"
      ],
      "metadata": {
        "_uuid": "d9d4009c-0988-447c-978d-ea5c43f01967",
        "_cell_guid": "d73d534d-694d-425f-aaf7-98115aa33076",
        "trusted": true,
        "id": "BtwohCrxjcVU"
      }
    },
    {
      "cell_type": "code",
      "source": [
        "data['sex'].value_counts()"
      ],
      "metadata": {
        "_uuid": "52b07f8c-69d6-4972-94f5-00bcd1bb5dd1",
        "_cell_guid": "18e79d2e-4d76-4ce3-a5df-ea9cef8bb194",
        "jupyter": {
          "outputs_hidden": false
        },
        "execution": {
          "iopub.status.busy": "2022-04-12T15:03:23.590889Z",
          "iopub.execute_input": "2022-04-12T15:03:23.591831Z",
          "iopub.status.idle": "2022-04-12T15:03:23.606519Z",
          "shell.execute_reply.started": "2022-04-12T15:03:23.591776Z",
          "shell.execute_reply": "2022-04-12T15:03:23.605661Z"
        },
        "trusted": true,
        "id": "1l2qcFRojcVY"
      },
      "execution_count": null,
      "outputs": []
    },
    {
      "cell_type": "code",
      "source": [
        "res=data['native_language'].value_counts()"
      ],
      "metadata": {
        "_uuid": "7e19f740-3221-4eb1-9d1a-924bce8ca92f",
        "_cell_guid": "d36bb821-6335-46a1-a7ac-ff13cd5a7051",
        "jupyter": {
          "outputs_hidden": false
        },
        "execution": {
          "iopub.status.busy": "2022-04-12T15:03:23.607935Z",
          "iopub.execute_input": "2022-04-12T15:03:23.608252Z",
          "iopub.status.idle": "2022-04-12T15:03:23.61907Z",
          "shell.execute_reply.started": "2022-04-12T15:03:23.608208Z",
          "shell.execute_reply": "2022-04-12T15:03:23.618197Z"
        },
        "trusted": true,
        "id": "mKELTbW3jcVZ"
      },
      "execution_count": null,
      "outputs": []
    },
    {
      "cell_type": "code",
      "source": [
        "res1 =data[data['native_language']!='english'].native_language.value_counts()"
      ],
      "metadata": {
        "execution": {
          "iopub.status.busy": "2022-04-12T15:03:23.620578Z",
          "iopub.execute_input": "2022-04-12T15:03:23.620913Z",
          "iopub.status.idle": "2022-04-12T15:03:23.633861Z",
          "shell.execute_reply.started": "2022-04-12T15:03:23.62087Z",
          "shell.execute_reply": "2022-04-12T15:03:23.633253Z"
        },
        "trusted": true,
        "id": "5SBmT2JIjcVb"
      },
      "execution_count": null,
      "outputs": []
    },
    {
      "cell_type": "code",
      "source": [
        "res1[res>40].sum()"
      ],
      "metadata": {
        "execution": {
          "iopub.status.busy": "2022-04-12T15:03:23.635104Z",
          "iopub.execute_input": "2022-04-12T15:03:23.635657Z",
          "iopub.status.idle": "2022-04-12T15:03:23.650336Z",
          "shell.execute_reply.started": "2022-04-12T15:03:23.635618Z",
          "shell.execute_reply": "2022-04-12T15:03:23.649468Z"
        },
        "trusted": true,
        "id": "YuvfukpPjcVc"
      },
      "execution_count": null,
      "outputs": []
    },
    {
      "cell_type": "code",
      "source": [
        "dg=data.groupby(\"native_language\").filter(lambda x: len(x) >40)"
      ],
      "metadata": {
        "execution": {
          "iopub.status.busy": "2022-04-12T15:03:23.651755Z",
          "iopub.execute_input": "2022-04-12T15:03:23.65216Z",
          "iopub.status.idle": "2022-04-12T15:03:23.672017Z",
          "shell.execute_reply.started": "2022-04-12T15:03:23.652101Z",
          "shell.execute_reply": "2022-04-12T15:03:23.671382Z"
        },
        "trusted": true,
        "id": "AIW2BrZCjcVd"
      },
      "execution_count": null,
      "outputs": []
    },
    {
      "cell_type": "code",
      "source": [
        "# Unseen data for testing later\n",
        "test_data = data.groupby(\"native_language\").filter(lambda x: len(x) <40)"
      ],
      "metadata": {
        "execution": {
          "iopub.status.busy": "2022-04-12T15:28:43.555169Z",
          "iopub.execute_input": "2022-04-12T15:28:43.555717Z",
          "iopub.status.idle": "2022-04-12T15:28:43.568692Z",
          "shell.execute_reply.started": "2022-04-12T15:28:43.555681Z",
          "shell.execute_reply": "2022-04-12T15:28:43.567633Z"
        },
        "trusted": true,
        "id": "UixwIFDkjcVe"
      },
      "execution_count": null,
      "outputs": []
    },
    {
      "cell_type": "code",
      "source": [
        "dg.sex.value_counts()"
      ],
      "metadata": {
        "execution": {
          "iopub.status.busy": "2022-04-12T15:28:56.562673Z",
          "iopub.execute_input": "2022-04-12T15:28:56.56295Z",
          "iopub.status.idle": "2022-04-12T15:28:56.572799Z",
          "shell.execute_reply.started": "2022-04-12T15:28:56.562918Z",
          "shell.execute_reply": "2022-04-12T15:28:56.571942Z"
        },
        "trusted": true,
        "id": "167c3U_8jcVf"
      },
      "execution_count": null,
      "outputs": []
    },
    {
      "cell_type": "code",
      "source": [
        "dg['native_language'].value_counts()"
      ],
      "metadata": {
        "_uuid": "9595bc93-7f09-48ed-a4a5-7b27516dd9f9",
        "_cell_guid": "a88feb89-21c8-4614-9b35-638e298a6bf6",
        "jupyter": {
          "outputs_hidden": false
        },
        "execution": {
          "iopub.status.busy": "2022-04-12T15:03:23.684378Z",
          "iopub.execute_input": "2022-04-12T15:03:23.685232Z",
          "iopub.status.idle": "2022-04-12T15:03:23.699849Z",
          "shell.execute_reply.started": "2022-04-12T15:03:23.685194Z",
          "shell.execute_reply": "2022-04-12T15:03:23.699151Z"
        },
        "trusted": true,
        "id": "u1BhELCRjcVg"
      },
      "execution_count": null,
      "outputs": []
    },
    {
      "cell_type": "code",
      "source": [
        "data.shape"
      ],
      "metadata": {
        "execution": {
          "iopub.status.busy": "2022-04-12T15:03:23.701289Z",
          "iopub.execute_input": "2022-04-12T15:03:23.701916Z",
          "iopub.status.idle": "2022-04-12T15:03:23.711092Z",
          "shell.execute_reply.started": "2022-04-12T15:03:23.701855Z",
          "shell.execute_reply": "2022-04-12T15:03:23.710284Z"
        },
        "trusted": true,
        "id": "qebQ15amjcVg"
      },
      "execution_count": null,
      "outputs": []
    },
    {
      "cell_type": "code",
      "source": [
        "dg.shape"
      ],
      "metadata": {
        "execution": {
          "iopub.status.busy": "2022-04-12T15:03:23.71285Z",
          "iopub.execute_input": "2022-04-12T15:03:23.713205Z",
          "iopub.status.idle": "2022-04-12T15:03:23.724519Z",
          "shell.execute_reply.started": "2022-04-12T15:03:23.713158Z",
          "shell.execute_reply": "2022-04-12T15:03:23.723442Z"
        },
        "trusted": true,
        "id": "Y8IiAIoJjcVh"
      },
      "execution_count": null,
      "outputs": []
    },
    {
      "cell_type": "code",
      "source": [
        "dg['filename'] = dg['filename'].apply(lambda x: x+'.mp3')"
      ],
      "metadata": {
        "execution": {
          "iopub.status.busy": "2022-04-12T15:03:23.725665Z",
          "iopub.execute_input": "2022-04-12T15:03:23.726151Z",
          "iopub.status.idle": "2022-04-12T15:03:23.735076Z",
          "shell.execute_reply.started": "2022-04-12T15:03:23.726091Z",
          "shell.execute_reply": "2022-04-12T15:03:23.73431Z"
        },
        "trusted": true,
        "id": "rT6FgK5FjcVh"
      },
      "execution_count": null,
      "outputs": []
    },
    {
      "cell_type": "code",
      "source": [
        "dg.head()"
      ],
      "metadata": {
        "execution": {
          "iopub.status.busy": "2022-04-12T15:03:23.736426Z",
          "iopub.execute_input": "2022-04-12T15:03:23.736916Z",
          "iopub.status.idle": "2022-04-12T15:03:23.761851Z",
          "shell.execute_reply.started": "2022-04-12T15:03:23.736869Z",
          "shell.execute_reply": "2022-04-12T15:03:23.761012Z"
        },
        "trusted": true,
        "id": "OubXPiKgjcVi"
      },
      "execution_count": null,
      "outputs": []
    },
    {
      "cell_type": "code",
      "source": [
        "dg.drop(columns=['Unnamed: 9', 'Unnamed: 10', 'Unnamed: 11'],inplace=True)"
      ],
      "metadata": {
        "execution": {
          "iopub.status.busy": "2022-04-12T15:03:23.763448Z",
          "iopub.execute_input": "2022-04-12T15:03:23.76403Z",
          "iopub.status.idle": "2022-04-12T15:03:23.774826Z",
          "shell.execute_reply.started": "2022-04-12T15:03:23.763981Z",
          "shell.execute_reply": "2022-04-12T15:03:23.773994Z"
        },
        "trusted": true,
        "id": "i-FHUVdFjcVi"
      },
      "execution_count": null,
      "outputs": []
    },
    {
      "cell_type": "code",
      "source": [
        "dg.head()"
      ],
      "metadata": {
        "execution": {
          "iopub.status.busy": "2022-04-12T15:03:23.776059Z",
          "iopub.execute_input": "2022-04-12T15:03:23.776312Z",
          "iopub.status.idle": "2022-04-12T15:03:23.800651Z",
          "shell.execute_reply.started": "2022-04-12T15:03:23.776284Z",
          "shell.execute_reply": "2022-04-12T15:03:23.799828Z"
        },
        "trusted": true,
        "id": "SkO9pjQbjcVj"
      },
      "execution_count": null,
      "outputs": []
    },
    {
      "cell_type": "code",
      "source": [
        "dg['accent'] = dg['native_language'].apply(lambda x: 'native' if x=='english' else 'non-native')"
      ],
      "metadata": {
        "execution": {
          "iopub.status.busy": "2022-04-12T15:03:23.801713Z",
          "iopub.execute_input": "2022-04-12T15:03:23.802169Z",
          "iopub.status.idle": "2022-04-12T15:03:23.807877Z",
          "shell.execute_reply.started": "2022-04-12T15:03:23.802112Z",
          "shell.execute_reply": "2022-04-12T15:03:23.807288Z"
        },
        "trusted": true,
        "id": "gYTBeaTDjcVj"
      },
      "execution_count": null,
      "outputs": []
    },
    {
      "cell_type": "code",
      "source": [
        "dg['accent'].value_counts()"
      ],
      "metadata": {
        "execution": {
          "iopub.status.busy": "2022-04-12T15:03:23.808759Z",
          "iopub.execute_input": "2022-04-12T15:03:23.809409Z",
          "iopub.status.idle": "2022-04-12T15:03:23.82442Z",
          "shell.execute_reply.started": "2022-04-12T15:03:23.809378Z",
          "shell.execute_reply": "2022-04-12T15:03:23.823446Z"
        },
        "trusted": true,
        "id": "Q5cshag3jcVk"
      },
      "execution_count": null,
      "outputs": []
    },
    {
      "cell_type": "code",
      "source": [
        "def feature_extractor(files, feature_type='mfcc'):\n",
        "    features = []\n",
        "    SAMPLE_RATE = 22050\n",
        "    dire = 'recordings/'\n",
        "    if feature_type == 'mfcc':\n",
        "        for file in files:\n",
        "            f_name = str(dire+file)\n",
        "            y, sr = librosa.load(f_name, sr=SAMPLE_RATE, duration = 10)\n",
        "            mfcc = librosa.feature.mfcc(y=y, sr=SAMPLE_RATE, n_mfcc = 10)\n",
        "            features.append(mfcc)\n",
        "    return features"
      ],
      "metadata": {
        "execution": {
          "iopub.status.busy": "2022-04-12T15:03:23.827622Z",
          "iopub.execute_input": "2022-04-12T15:03:23.82808Z",
          "iopub.status.idle": "2022-04-12T15:03:23.834527Z",
          "shell.execute_reply.started": "2022-04-12T15:03:23.828036Z",
          "shell.execute_reply": "2022-04-12T15:03:23.83363Z"
        },
        "trusted": true,
        "id": "oIvqzvcBjcVk"
      },
      "execution_count": null,
      "outputs": []
    },
    {
      "cell_type": "code",
      "source": [
        "# features = feature_extractor(dg['filename'])"
      ],
      "metadata": {
        "execution": {
          "iopub.status.busy": "2022-04-12T15:03:23.840876Z",
          "iopub.execute_input": "2022-04-12T15:03:23.841575Z",
          "iopub.status.idle": "2022-04-12T15:03:23.845769Z",
          "shell.execute_reply.started": "2022-04-12T15:03:23.841506Z",
          "shell.execute_reply": "2022-04-12T15:03:23.845064Z"
        },
        "trusted": true,
        "id": "5jCS-cEcjcVl"
      },
      "execution_count": null,
      "outputs": []
    },
    {
      "cell_type": "code",
      "source": [
        "# features[0]"
      ],
      "metadata": {
        "execution": {
          "iopub.status.busy": "2022-04-12T15:03:23.846911Z",
          "iopub.execute_input": "2022-04-12T15:03:23.847288Z",
          "iopub.status.idle": "2022-04-12T15:03:23.858035Z",
          "shell.execute_reply.started": "2022-04-12T15:03:23.847245Z",
          "shell.execute_reply": "2022-04-12T15:03:23.857315Z"
        },
        "trusted": true,
        "id": "3LL_zbVJjcVl"
      },
      "execution_count": null,
      "outputs": []
    },
    {
      "cell_type": "code",
      "source": [
        "class Config(object):\n",
        "    def __init__(self,sampling_rate=16000, audio_duration=2, n_classes=10, learning_rate=0.0001, max_epochs=20, n_mfcc=40):\n",
        "        self.sampling_rate = sampling_rate\n",
        "        self.audio_duration = audio_duration\n",
        "        self.n_classes = n_classes\n",
        "        self.n_mfcc = n_mfcc\n",
        "        self.learning_rate = learning_rate\n",
        "        self.max_epochs = max_epochs\n",
        "        self.audio_length = self.sampling_rate * self.audio_duration\n",
        "        self.dim = (self.n_mfcc, 1 + int(np.floor(self.audio_length/512)), 1)\n",
        "\n",
        "def prepare_data(fnames, config, data_dir):\n",
        "    X = np.empty(shape=(len(fnames), config.dim[0], config.dim[1], 1))\n",
        "    input_length = config.audio_length\n",
        "    for i, fname in tqdm_notebook(enumerate(fnames), total=len(fnames)):\n",
        "        file_path = os.path.join(data_dir, fname)\n",
        "        data, _ = librosa.core.load(file_path, sr=config.sampling_rate, res_type=\"kaiser_fast\")\n",
        "\n",
        "        # Random offset / Padding\n",
        "        if len(data) > input_length:\n",
        "            max_offset = len(data) - input_length\n",
        "            offset = np.random.randint(max_offset)\n",
        "            data = data[offset:(input_length+offset)]\n",
        "        else:\n",
        "            if input_length > len(data):\n",
        "                max_offset = input_length - len(data)\n",
        "                offset = np.random.randint(max_offset)\n",
        "            else:\n",
        "                offset = 0\n",
        "            data = np.pad(data, (offset, input_length - len(data) - offset), \"constant\")\n",
        "\n",
        "        data = librosa.feature.mfcc(data, sr=config.sampling_rate, n_mfcc=config.n_mfcc)\n",
        "        data = np.expand_dims(data, axis=-1)\n",
        "        X[i,] = data\n",
        "    return X\n"
      ],
      "metadata": {
        "execution": {
          "iopub.status.busy": "2022-04-12T15:03:23.859586Z",
          "iopub.execute_input": "2022-04-12T15:03:23.86011Z",
          "iopub.status.idle": "2022-04-12T15:03:23.875653Z",
          "shell.execute_reply.started": "2022-04-12T15:03:23.860071Z",
          "shell.execute_reply": "2022-04-12T15:03:23.874662Z"
        },
        "trusted": true,
        "id": "ht43NiIfjcVm"
      },
      "execution_count": null,
      "outputs": []
    },
    {
      "cell_type": "code",
      "source": [
        "X_fnames = np.array(dg['filename'])\n",
        "data_path = 'recordings/'\n",
        "\n",
        "config = Config(sampling_rate=22050, audio_duration=20, learning_rate=0.0001, n_mfcc=13, n_classes=2)\n",
        "feature_file_path = OUTPUT_DIR+'mfcc_features.npy'\n",
        "feature_file_path = '/kaggle/input/speechdetection/mfcc_features.npy'\n",
        "if os.path.exists(feature_file_path):\n",
        "    X = np.load(feature_file_path)\n",
        "else:\n",
        "    X = prepare_data(X_fnames, config, data_path)\n",
        "    np.save(feature_file_path, X)"
      ],
      "metadata": {
        "execution": {
          "iopub.status.busy": "2022-04-12T15:03:23.877202Z",
          "iopub.execute_input": "2022-04-12T15:03:23.877738Z",
          "iopub.status.idle": "2022-04-12T15:03:25.340354Z",
          "shell.execute_reply.started": "2022-04-12T15:03:23.877685Z",
          "shell.execute_reply": "2022-04-12T15:03:25.339234Z"
        },
        "trusted": true,
        "id": "5ILPw4qkjcVn"
      },
      "execution_count": null,
      "outputs": []
    },
    {
      "cell_type": "code",
      "source": [
        "# with open(OUTPUT_DIR+'mfcc_features.npy', 'wb+') as f:\n",
        "#     np.save(f, X)"
      ],
      "metadata": {
        "execution": {
          "iopub.status.busy": "2022-04-12T15:03:25.341929Z",
          "iopub.execute_input": "2022-04-12T15:03:25.3423Z",
          "iopub.status.idle": "2022-04-12T15:03:25.346838Z",
          "shell.execute_reply.started": "2022-04-12T15:03:25.342242Z",
          "shell.execute_reply": "2022-04-12T15:03:25.345715Z"
        },
        "trusted": true,
        "id": "oPBPaMw1jcVo"
      },
      "execution_count": null,
      "outputs": []
    },
    {
      "cell_type": "code",
      "source": [
        "from tensorflow.keras.utils import to_categorical\n",
        "from sklearn.preprocessing import LabelEncoder\n",
        "\n",
        "y_gender = dg['sex']\n",
        "y_accent = dg['accent']\n",
        "\n",
        "encoder = LabelEncoder()\n",
        "encoder.fit(y_gender)\n",
        "y_gender = encoder.transform(y_gender)\n",
        "\n",
        "encoder1 = LabelEncoder()\n",
        "encoder1.fit(y_accent)\n",
        "y_accent = encoder1.transform(y_accent)\n",
        "y_gender = to_categorical(np.array(y_gender))\n",
        "y_accent = to_categorical(np.array(y_accent))"
      ],
      "metadata": {
        "execution": {
          "iopub.status.busy": "2022-04-12T15:03:25.34878Z",
          "iopub.execute_input": "2022-04-12T15:03:25.349138Z",
          "iopub.status.idle": "2022-04-12T15:03:25.815622Z",
          "shell.execute_reply.started": "2022-04-12T15:03:25.349073Z",
          "shell.execute_reply": "2022-04-12T15:03:25.814696Z"
        },
        "trusted": true,
        "id": "4eKoRuRqjcVp"
      },
      "execution_count": null,
      "outputs": []
    },
    {
      "cell_type": "markdown",
      "source": [
        "Normalization\n",
        "\n",
        "Normalization is a crucial preprocessing step. The simplest method is rescaling the range of features to scale the range in [0, 1]."
      ],
      "metadata": {
        "id": "_i_yee_RjcVq"
      }
    },
    {
      "cell_type": "code",
      "source": [
        "from sklearn.model_selection import train_test_split\n",
        "X_train, X_test, y_gender_train, y_gender_test, y_accent_train, y_accent_test = train_test_split(X, y_gender, y_accent, test_size=0.2, random_state=10)\n",
        "print ('Train set:', X_train.shape,  y_gender_train.shape)\n",
        "print ('Test set:', X_test.shape,  y_gender_test.shape)\n",
        "\n",
        "X_train, X_val, y_gender_train, y_gender_val, y_accent_train, y_accent_val = train_test_split(X_train, y_gender_train, y_accent_train, test_size=0.15, random_state=10)\n",
        "\n",
        "mean = np.mean(X_train, axis=0)\n",
        "std = np.std(X_train, axis=0)\n",
        "\n",
        "X_train = (X_train - mean)/std\n",
        "X_val = (X_val - mean)/std\n",
        "X_test = (X_test - mean)/std"
      ],
      "metadata": {
        "execution": {
          "iopub.status.busy": "2022-04-12T15:03:25.819551Z",
          "iopub.execute_input": "2022-04-12T15:03:25.81983Z",
          "iopub.status.idle": "2022-04-12T15:03:26.051088Z",
          "shell.execute_reply.started": "2022-04-12T15:03:25.819797Z",
          "shell.execute_reply": "2022-04-12T15:03:26.050206Z"
        },
        "trusted": true,
        "id": "PVcZXF-KjcVr"
      },
      "execution_count": null,
      "outputs": []
    },
    {
      "cell_type": "code",
      "source": [
        "print ('Label accent set:', y_accent_train.shape,  y_accent_test.shape)"
      ],
      "metadata": {
        "execution": {
          "iopub.status.busy": "2022-04-12T15:03:26.052701Z",
          "iopub.execute_input": "2022-04-12T15:03:26.053221Z",
          "iopub.status.idle": "2022-04-12T15:03:26.059423Z",
          "shell.execute_reply.started": "2022-04-12T15:03:26.053174Z",
          "shell.execute_reply": "2022-04-12T15:03:26.058545Z"
        },
        "trusted": true,
        "id": "opYGj5VljcV-"
      },
      "execution_count": null,
      "outputs": []
    },
    {
      "cell_type": "markdown",
      "source": [
        "# Simple Multilayer Feedforward Neural Network"
      ],
      "metadata": {
        "id": "mV45Z9CDjcV_"
      }
    },
    {
      "cell_type": "code",
      "source": [
        "from tensorflow.keras.models import Sequential, Model\n",
        "from tensorflow.keras.layers import Dense,Dropout,Activation, Flatten, Input, Conv2D, BatchNormalization, MaxPooling2D, LSTM, Concatenate\n",
        "from tensorflow.keras.optimizers import Adam\n",
        "from sklearn import metrics\n",
        "import tensorflow as tf\n",
        "from keras.regularizers import l2"
      ],
      "metadata": {
        "execution": {
          "iopub.status.busy": "2022-04-12T15:03:26.06084Z",
          "iopub.execute_input": "2022-04-12T15:03:26.061828Z",
          "iopub.status.idle": "2022-04-12T15:03:26.072987Z",
          "shell.execute_reply.started": "2022-04-12T15:03:26.061775Z",
          "shell.execute_reply": "2022-04-12T15:03:26.071956Z"
        },
        "trusted": true,
        "id": "8xC-hFPUjcV_"
      },
      "execution_count": null,
      "outputs": []
    },
    {
      "cell_type": "code",
      "source": [
        "input_layer = Input(shape=(13, 862), name='Input')\n",
        "\n",
        "dense1=Dense(128, activation='relu',name='Hidden_1')(input_layer)\n",
        "dropout1 = Dropout(0.5)(dense1)\n",
        "\n",
        "dense2=Dense(256, activation='relu',name='Hidden_2')(dropout1)\n",
        "dropout2 = Dropout(0.5)(dense2)\n",
        "\n",
        "dense3=Dense(128, activation='relu',name='Hidden_3')(dropout2)\n",
        "dropout3 = Dropout(0.5)(dense3)\n",
        "m = tf.keras.layers.Flatten()(dropout3)\n",
        "\n",
        "out_accent = Dense(2, activation='sigmoid',name='output_accent')(m)\n",
        "out_gender = Dense(2, activation='sigmoid',name='output_gender')(m)\n",
        "\n",
        "\n",
        "model_ffn = Model(inputs = input_layer ,outputs=[out_accent, out_gender])\n"
      ],
      "metadata": {
        "execution": {
          "iopub.status.busy": "2022-04-12T15:03:26.074414Z",
          "iopub.execute_input": "2022-04-12T15:03:26.074916Z",
          "iopub.status.idle": "2022-04-12T15:03:26.291838Z",
          "shell.execute_reply.started": "2022-04-12T15:03:26.074826Z",
          "shell.execute_reply": "2022-04-12T15:03:26.290687Z"
        },
        "trusted": true,
        "id": "9lAhqnMrjcV_"
      },
      "execution_count": null,
      "outputs": []
    },
    {
      "cell_type": "code",
      "source": [
        "model_ffn.summary()"
      ],
      "metadata": {
        "execution": {
          "iopub.status.busy": "2022-04-12T15:03:26.293246Z",
          "iopub.execute_input": "2022-04-12T15:03:26.293555Z",
          "iopub.status.idle": "2022-04-12T15:03:26.308714Z",
          "shell.execute_reply.started": "2022-04-12T15:03:26.293518Z",
          "shell.execute_reply": "2022-04-12T15:03:26.307502Z"
        },
        "trusted": true,
        "id": "8rHyHjQJjcWA"
      },
      "execution_count": null,
      "outputs": []
    },
    {
      "cell_type": "code",
      "source": [
        "model_ffn.compile(optimizer='Adam',loss={'output_accent':'binary_crossentropy','output_gender': 'binary_crossentropy'}, metrics ={'output_accent': 'accuracy', 'output_gender': 'accuracy'})"
      ],
      "metadata": {
        "execution": {
          "iopub.status.busy": "2022-04-12T15:03:26.309816Z",
          "iopub.execute_input": "2022-04-12T15:03:26.310066Z",
          "iopub.status.idle": "2022-04-12T15:03:26.330597Z",
          "shell.execute_reply.started": "2022-04-12T15:03:26.310035Z",
          "shell.execute_reply": "2022-04-12T15:03:26.329488Z"
        },
        "trusted": true,
        "id": "2xYLwljYjcWA"
      },
      "execution_count": null,
      "outputs": []
    },
    {
      "cell_type": "code",
      "source": [
        "## Training my model\n",
        "from tensorflow.keras.callbacks import ModelCheckpoint\n",
        "from datetime import datetime\n",
        "\n",
        "num_epochs = 70\n",
        "num_batch_size = 32\n",
        "\n",
        "checkpointer = ModelCheckpoint(filepath=OUTPUT_DIR + 'saved_models/audio_classification_ffn.hdf5', mode='min',\n",
        "                               verbose=1, save_best_only=True,patience=10, monitor='val_loss')\n",
        "early_stopping = EarlyStopping(monitor=\"val_loss\", mode=\"min\", patience=10)\n",
        "\n",
        "start = datetime.now()\n",
        "\n",
        "history = model_ffn.fit(X_train, {\"output_accent\": y_accent_train, \"output_gender\": y_gender_train},validation_data=(X_val,{\"output_accent\": y_accent_val, \"output_gender\": y_gender_val}),\n",
        "                        batch_size=num_batch_size, epochs=num_epochs, callbacks=[checkpointer, early_stopping], verbose=1)\n",
        "\n",
        "\n",
        "duration = datetime.now() - start\n",
        "print(\"Training completed in time: \", duration)"
      ],
      "metadata": {
        "execution": {
          "iopub.status.busy": "2022-04-12T15:03:26.331909Z",
          "iopub.execute_input": "2022-04-12T15:03:26.332221Z",
          "iopub.status.idle": "2022-04-12T15:03:37.966502Z",
          "shell.execute_reply.started": "2022-04-12T15:03:26.332188Z",
          "shell.execute_reply": "2022-04-12T15:03:37.965598Z"
        },
        "trusted": true,
        "id": "5oPpkUkWjcWB"
      },
      "execution_count": null,
      "outputs": []
    },
    {
      "cell_type": "markdown",
      "source": [
        "### Evaluation"
      ],
      "metadata": {
        "id": "JYTaRnQvjcWB"
      }
    },
    {
      "cell_type": "code",
      "source": [
        "results = model_ffn.evaluate(X_test, {\"output_accent\": y_accent_test, \"output_gender\": y_gender_test})\n",
        "print(results)"
      ],
      "metadata": {
        "execution": {
          "iopub.status.busy": "2022-04-12T15:03:37.96852Z",
          "iopub.execute_input": "2022-04-12T15:03:37.96885Z",
          "iopub.status.idle": "2022-04-12T15:03:38.097342Z",
          "shell.execute_reply.started": "2022-04-12T15:03:37.968804Z",
          "shell.execute_reply": "2022-04-12T15:03:38.096135Z"
        },
        "trusted": true,
        "id": "stMJEfy3jcWC"
      },
      "execution_count": null,
      "outputs": []
    },
    {
      "cell_type": "code",
      "source": [
        "# Plot training and validation accuracy values\n",
        "plt.plot(history.history['output_accent_accuracy'])\n",
        "plt.plot(history.history['val_output_accent_accuracy'])\n",
        "plt.plot(history.history['output_gender_accuracy'])\n",
        "plt.plot(history.history['val_output_gender_accuracy'])\n",
        "plt.title('Accuracy')\n",
        "plt.ylabel('Accuracy')\n",
        "plt.xlabel('Epoch')\n",
        "plt.legend(['Train(Accent)','Validation(Accent)', 'Train(Gender)','Validation(Gender)'], loc = 'upper left')\n",
        "plt.show()\n",
        "\n",
        "# Plot training and validation accuracy values\n",
        "plt.plot(history.history['loss'])\n",
        "plt.plot(history.history['val_loss'])\n",
        "plt.title('Model Loss')\n",
        "plt.ylabel('Loss')\n",
        "plt.xlabel('Epoch')\n",
        "plt.legend(['Train','Validation'], loc = 'upper left')\n",
        "plt.show()"
      ],
      "metadata": {
        "execution": {
          "iopub.status.busy": "2022-04-12T15:03:38.098637Z",
          "iopub.execute_input": "2022-04-12T15:03:38.099254Z",
          "iopub.status.idle": "2022-04-12T15:03:38.533963Z",
          "shell.execute_reply.started": "2022-04-12T15:03:38.099212Z",
          "shell.execute_reply": "2022-04-12T15:03:38.533243Z"
        },
        "trusted": true,
        "id": "HNJVDoo4jcWJ"
      },
      "execution_count": null,
      "outputs": []
    },
    {
      "cell_type": "code",
      "source": [
        "accent_prediction, gender_prediction = model_ffn.predict(X_test)\n",
        "prediction_accent_rounded = [np.argmax(i) for i in accent_prediction]\n",
        "# prediction_ANN_rounded[0]\n",
        "y_test_index = [np.argmax(i) for i in y_accent_test]"
      ],
      "metadata": {
        "execution": {
          "iopub.status.busy": "2022-04-12T18:14:05.866317Z",
          "iopub.execute_input": "2022-04-12T18:14:05.866632Z",
          "iopub.status.idle": "2022-04-12T18:14:05.978862Z",
          "shell.execute_reply.started": "2022-04-12T18:14:05.8666Z",
          "shell.execute_reply": "2022-04-12T18:14:05.977524Z"
        },
        "trusted": true,
        "id": "d6MtN3f2jcWJ"
      },
      "execution_count": null,
      "outputs": []
    },
    {
      "cell_type": "code",
      "source": [
        "from sklearn.metrics import classification_report\n",
        "\n",
        "print(classification_report(y_test_index, prediction_accent_rounded))"
      ],
      "metadata": {
        "execution": {
          "iopub.status.busy": "2022-04-12T18:14:07.800943Z",
          "iopub.execute_input": "2022-04-12T18:14:07.801845Z",
          "iopub.status.idle": "2022-04-12T18:14:07.814675Z",
          "shell.execute_reply.started": "2022-04-12T18:14:07.801787Z",
          "shell.execute_reply": "2022-04-12T18:14:07.813352Z"
        },
        "trusted": true,
        "id": "DqEwCCiJjcWK"
      },
      "execution_count": null,
      "outputs": []
    },
    {
      "cell_type": "code",
      "source": [
        "import tensorflow as tf\n",
        "\n",
        "#Confusion Matrix - verify accuracy of each class\n",
        "import seaborn as sns\n",
        "cm = tf.math.confusion_matrix(labels = y_test_index, predictions = prediction_accent_rounded)\n",
        "plt.figure(figsize = (12,7))\n",
        "sns.heatmap(cm,annot=True, fmt='d')\n",
        "plt.xlabel('Prediction')\n",
        "plt.ylabel('True_value')"
      ],
      "metadata": {
        "execution": {
          "iopub.status.busy": "2022-04-12T15:03:38.836974Z",
          "iopub.execute_input": "2022-04-12T15:03:38.837247Z",
          "iopub.status.idle": "2022-04-12T15:03:39.282977Z",
          "shell.execute_reply.started": "2022-04-12T15:03:38.837202Z",
          "shell.execute_reply": "2022-04-12T15:03:39.282037Z"
        },
        "trusted": true,
        "id": "U1pa0aocjcWK"
      },
      "execution_count": null,
      "outputs": []
    },
    {
      "cell_type": "code",
      "source": [
        "prediction_gender_rounded = [np.argmax(i) for i in gender_prediction]\n",
        "# prediction_ANN_rounded[0]\n",
        "y_test_gender_index = [np.argmax(i) for i in y_gender_test]"
      ],
      "metadata": {
        "execution": {
          "iopub.status.busy": "2022-04-12T18:14:22.525422Z",
          "iopub.execute_input": "2022-04-12T18:14:22.526107Z",
          "iopub.status.idle": "2022-04-12T18:14:22.534871Z",
          "shell.execute_reply.started": "2022-04-12T18:14:22.52606Z",
          "shell.execute_reply": "2022-04-12T18:14:22.533626Z"
        },
        "trusted": true,
        "id": "ngvikpqhjcWK"
      },
      "execution_count": null,
      "outputs": []
    },
    {
      "cell_type": "code",
      "source": [
        "cm = tf.math.confusion_matrix(labels = y_test_gender_index, predictions = prediction_gender_rounded)\n",
        "plt.figure(figsize = (12,7))\n",
        "sns.heatmap(cm,annot=True, fmt='d')\n",
        "plt.xlabel('Prediction')\n",
        "plt.ylabel('True_value')"
      ],
      "metadata": {
        "execution": {
          "iopub.status.busy": "2022-04-12T18:14:23.577569Z",
          "iopub.execute_input": "2022-04-12T18:14:23.577888Z",
          "iopub.status.idle": "2022-04-12T18:14:23.849527Z",
          "shell.execute_reply.started": "2022-04-12T18:14:23.57785Z",
          "shell.execute_reply": "2022-04-12T18:14:23.848826Z"
        },
        "trusted": true,
        "id": "lSbc60YYjcWL"
      },
      "execution_count": null,
      "outputs": []
    },
    {
      "cell_type": "code",
      "source": [
        "from sklearn.metrics import classification_report\n",
        "\n",
        "print(classification_report(y_test_gender_index, prediction_gender_rounded))"
      ],
      "metadata": {
        "execution": {
          "iopub.status.busy": "2022-04-12T18:14:24.964531Z",
          "iopub.execute_input": "2022-04-12T18:14:24.965038Z",
          "iopub.status.idle": "2022-04-12T18:14:24.977726Z",
          "shell.execute_reply.started": "2022-04-12T18:14:24.964988Z",
          "shell.execute_reply": "2022-04-12T18:14:24.975985Z"
        },
        "trusted": true,
        "id": "20m85W2mjcWL"
      },
      "execution_count": null,
      "outputs": []
    },
    {
      "cell_type": "markdown",
      "source": [
        "# CNN"
      ],
      "metadata": {
        "id": "uKVrlaX8jcWL"
      }
    },
    {
      "cell_type": "markdown",
      "source": [
        "### CNN- Accent classification"
      ],
      "metadata": {
        "id": "gJVWYq3gjcWM"
      }
    },
    {
      "cell_type": "code",
      "source": [
        "def create_cnn_model(input_shape=None):\n",
        "    # Create CNN model\n",
        "    input_layer = Input(shape=(13, 862, 1), name='Input')\n",
        "    # conv 1\n",
        "    conv = Conv2D(32, 3, padding='same', activation='relu')(input_layer)\n",
        "    batchnorm = BatchNormalization()(conv)\n",
        "    maxpool = MaxPooling2D(pool_size=(2, 2))(batchnorm)\n",
        "    batchnorm1 = BatchNormalization()(maxpool)\n",
        "    # conv 2\n",
        "    conv1 = Conv2D(32, 3, padding='same', activation='relu')(batchnorm1)\n",
        "    batchnorm2 = BatchNormalization()(conv1)\n",
        "    maxpool1 = MaxPooling2D(pool_size=(2, 2))(batchnorm2)\n",
        "    batchnorm3 = BatchNormalization()(maxpool1)\n",
        "    # conv 3\n",
        "    conv2 = Conv2D(128, 3, padding='same', activation='relu', name='conv2')(batchnorm3)\n",
        "    batchnorm4 = BatchNormalization()(conv2)\n",
        "    maxpool2 = MaxPooling2D(pool_size=(2, 2))(batchnorm4)\n",
        "    batchnorm5 = BatchNormalization()(maxpool2)\n",
        "    # flatten\n",
        "    flatten = Flatten()(batchnorm5)\n",
        "    dense = Dense(64, activation='relu',name='Hidden_1')(flatten)\n",
        "    dropout = Dropout(0.5)(dense)\n",
        "    # output\n",
        "    out = Dense(2, activation='sigmoid',name='output')(dropout)\n",
        "    model = Model(inputs = input_layer ,outputs=out)\n",
        "    return model\n"
      ],
      "metadata": {
        "scrolled": true,
        "execution": {
          "iopub.status.busy": "2022-04-12T15:03:39.566023Z",
          "iopub.execute_input": "2022-04-12T15:03:39.566324Z",
          "iopub.status.idle": "2022-04-12T15:03:39.577563Z",
          "shell.execute_reply.started": "2022-04-12T15:03:39.56629Z",
          "shell.execute_reply": "2022-04-12T15:03:39.576598Z"
        },
        "trusted": true,
        "id": "D37eK3WWjcWM"
      },
      "execution_count": null,
      "outputs": []
    },
    {
      "cell_type": "code",
      "source": [
        "model_cnn_accent = create_cnn_model()"
      ],
      "metadata": {
        "execution": {
          "iopub.status.busy": "2022-04-12T15:03:39.578785Z",
          "iopub.execute_input": "2022-04-12T15:03:39.57903Z",
          "iopub.status.idle": "2022-04-12T15:03:40.003786Z",
          "shell.execute_reply.started": "2022-04-12T15:03:39.579Z",
          "shell.execute_reply": "2022-04-12T15:03:40.002789Z"
        },
        "trusted": true,
        "id": "kg1UQMFOjcWN"
      },
      "execution_count": null,
      "outputs": []
    },
    {
      "cell_type": "code",
      "source": [
        "model_cnn_accent.summary()"
      ],
      "metadata": {
        "execution": {
          "iopub.status.busy": "2022-04-12T15:03:40.005294Z",
          "iopub.execute_input": "2022-04-12T15:03:40.00562Z",
          "iopub.status.idle": "2022-04-12T15:03:40.019968Z",
          "shell.execute_reply.started": "2022-04-12T15:03:40.005576Z",
          "shell.execute_reply": "2022-04-12T15:03:40.01886Z"
        },
        "trusted": true,
        "id": "QUcrXe1HjcWN"
      },
      "execution_count": null,
      "outputs": []
    },
    {
      "cell_type": "code",
      "source": [
        "# tf.keras.utils.plot_model(model_cnn_accent, to_file='model.png', show_shapes=True, show_layer_names=False)\n"
      ],
      "metadata": {
        "execution": {
          "iopub.status.busy": "2022-04-12T15:03:40.021369Z",
          "iopub.execute_input": "2022-04-12T15:03:40.021677Z",
          "iopub.status.idle": "2022-04-12T15:03:40.029952Z",
          "shell.execute_reply.started": "2022-04-12T15:03:40.021633Z",
          "shell.execute_reply": "2022-04-12T15:03:40.029194Z"
        },
        "trusted": true,
        "id": "dw_ioVPmjcWN"
      },
      "execution_count": null,
      "outputs": []
    },
    {
      "cell_type": "code",
      "source": [
        "model_cnn_accent.compile(loss='binary_crossentropy', metrics=['accuracy'], optimizer='adam')"
      ],
      "metadata": {
        "execution": {
          "iopub.status.busy": "2022-04-12T15:03:40.031711Z",
          "iopub.execute_input": "2022-04-12T15:03:40.032046Z",
          "iopub.status.idle": "2022-04-12T15:03:40.052155Z",
          "shell.execute_reply.started": "2022-04-12T15:03:40.031999Z",
          "shell.execute_reply": "2022-04-12T15:03:40.05118Z"
        },
        "trusted": true,
        "id": "RXfwiMGtjcWO"
      },
      "execution_count": null,
      "outputs": []
    },
    {
      "cell_type": "code",
      "source": [
        "## Trianing my model\n",
        "from tensorflow.keras.callbacks import ModelCheckpoint\n",
        "from datetime import datetime\n",
        "\n",
        "num_epochs = 35\n",
        "num_batch_size = 32\n",
        "\n",
        "checkpointer = ModelCheckpoint(filepath=OUTPUT_DIR +'saved_models/accent_classification_cnn.h5',\n",
        "                               verbose=1, save_best_only=True,patience=10, mode='max', monitor='val_accuracy')\n",
        "early_stopping = EarlyStopping(monitor=\"val_loss\", mode=\"min\", patience=5)\n",
        "\n",
        "start = datetime.now()\n",
        "\n",
        "history = model_cnn_accent.fit(X_train, y_accent_train, batch_size=num_batch_size, epochs=num_epochs, validation_data=(X_val, y_accent_val), callbacks=[checkpointer,early_stopping], verbose=1)\n",
        "\n",
        "\n",
        "duration = datetime.now() - start\n",
        "print(\"Training completed in time: \", duration)"
      ],
      "metadata": {
        "execution": {
          "iopub.status.busy": "2022-04-12T15:03:40.053785Z",
          "iopub.execute_input": "2022-04-12T15:03:40.054069Z",
          "iopub.status.idle": "2022-04-12T15:04:08.579745Z",
          "shell.execute_reply.started": "2022-04-12T15:03:40.054033Z",
          "shell.execute_reply": "2022-04-12T15:04:08.57867Z"
        },
        "trusted": true,
        "id": "NEOq97kHjcWO"
      },
      "execution_count": null,
      "outputs": []
    },
    {
      "cell_type": "code",
      "source": [
        "results_accent = model_cnn_accent.evaluate(X_test, y_accent_test)\n",
        "print(results_accent)"
      ],
      "metadata": {
        "execution": {
          "iopub.status.busy": "2022-04-12T15:04:08.581481Z",
          "iopub.execute_input": "2022-04-12T15:04:08.581797Z",
          "iopub.status.idle": "2022-04-12T15:04:22.452044Z",
          "shell.execute_reply.started": "2022-04-12T15:04:08.581753Z",
          "shell.execute_reply": "2022-04-12T15:04:22.451134Z"
        },
        "trusted": true,
        "id": "Il3CEyJYjcWO"
      },
      "execution_count": null,
      "outputs": []
    },
    {
      "cell_type": "code",
      "source": [
        "# Plot training and validation accuracy values\n",
        "plt.plot(history.history['accuracy'])\n",
        "plt.plot(history.history['val_accuracy'])\n",
        "plt.title('Accuracy')\n",
        "plt.ylabel('Accuracy')\n",
        "plt.xlabel('Epoch')\n",
        "plt.legend(['Train','Validation'], loc = 'upper left')\n",
        "plt.show()\n",
        "\n",
        "# Plot training and validation accuracy values\n",
        "plt.plot(history.history['loss'])\n",
        "plt.plot(history.history['val_loss'])\n",
        "plt.title('Model Loss')\n",
        "plt.ylabel('Loss')\n",
        "plt.xlabel('Epoch')\n",
        "plt.legend(['Train','Validation'], loc = 'upper left')\n",
        "plt.show()"
      ],
      "metadata": {
        "execution": {
          "iopub.status.busy": "2022-04-12T15:04:22.453546Z",
          "iopub.execute_input": "2022-04-12T15:04:22.453799Z",
          "iopub.status.idle": "2022-04-12T15:04:22.8653Z",
          "shell.execute_reply.started": "2022-04-12T15:04:22.453767Z",
          "shell.execute_reply": "2022-04-12T15:04:22.864403Z"
        },
        "trusted": true,
        "id": "R20NEPa7jcWO"
      },
      "execution_count": null,
      "outputs": []
    },
    {
      "cell_type": "markdown",
      "source": [
        "### CNN - Gender classification"
      ],
      "metadata": {
        "id": "5FZwZHhEjcWP"
      }
    },
    {
      "cell_type": "code",
      "source": [
        "model_cnn_gender = create_cnn_model()"
      ],
      "metadata": {
        "execution": {
          "iopub.status.busy": "2022-04-12T15:04:22.866461Z",
          "iopub.execute_input": "2022-04-12T15:04:22.866694Z",
          "iopub.status.idle": "2022-04-12T15:04:22.992104Z",
          "shell.execute_reply.started": "2022-04-12T15:04:22.866665Z",
          "shell.execute_reply": "2022-04-12T15:04:22.991219Z"
        },
        "trusted": true,
        "id": "dB2lKP8WjcWP"
      },
      "execution_count": null,
      "outputs": []
    },
    {
      "cell_type": "code",
      "source": [
        "model_cnn_gender.compile(loss='binary_crossentropy', metrics=['accuracy'], optimizer='adam')"
      ],
      "metadata": {
        "execution": {
          "iopub.status.busy": "2022-04-12T15:04:22.993612Z",
          "iopub.execute_input": "2022-04-12T15:04:22.995354Z",
          "iopub.status.idle": "2022-04-12T15:04:23.006045Z",
          "shell.execute_reply.started": "2022-04-12T15:04:22.995306Z",
          "shell.execute_reply": "2022-04-12T15:04:23.005289Z"
        },
        "trusted": true,
        "id": "Z-6XnNpEjcWP"
      },
      "execution_count": null,
      "outputs": []
    },
    {
      "cell_type": "code",
      "source": [
        "## Trianing my model\n",
        "from tensorflow.keras.callbacks import ModelCheckpoint\n",
        "from datetime import datetime\n",
        "\n",
        "num_epochs = 35\n",
        "num_batch_size = 32\n",
        "\n",
        "checkpointer = ModelCheckpoint(filepath=OUTPUT_DIR +'saved_models/gender_classification_cnn.h5',\n",
        "                               verbose=1, save_best_only=True,patience=5, mode='max', monitor='val_accuracy')\n",
        "early_stopping = EarlyStopping(monitor=\"val_loss\", mode=\"min\", patience=5)\n",
        "\n",
        "start = datetime.now()\n",
        "\n",
        "history_gender = model_cnn_gender.fit(X_train, y_gender_train, batch_size=num_batch_size, epochs=num_epochs, validation_data=(X_val, y_gender_val), callbacks=[checkpointer, early_stopping], verbose=1)\n",
        "\n",
        "\n",
        "duration = datetime.now() - start\n",
        "print(\"Training completed in time: \", duration)"
      ],
      "metadata": {
        "execution": {
          "iopub.status.busy": "2022-04-12T15:04:23.007797Z",
          "iopub.execute_input": "2022-04-12T15:04:23.00811Z",
          "iopub.status.idle": "2022-04-12T15:06:01.391896Z",
          "shell.execute_reply.started": "2022-04-12T15:04:23.008066Z",
          "shell.execute_reply": "2022-04-12T15:06:01.390943Z"
        },
        "trusted": true,
        "id": "JTD1pMkDjcWQ"
      },
      "execution_count": null,
      "outputs": []
    },
    {
      "cell_type": "code",
      "source": [
        "results_gender = model_cnn_gender.evaluate(X_test, y_gender_test)\n",
        "print(results_gender)"
      ],
      "metadata": {
        "execution": {
          "iopub.status.busy": "2022-04-12T15:06:01.393886Z",
          "iopub.execute_input": "2022-04-12T15:06:01.394107Z",
          "iopub.status.idle": "2022-04-12T15:06:46.320201Z",
          "shell.execute_reply.started": "2022-04-12T15:06:01.39408Z",
          "shell.execute_reply": "2022-04-12T15:06:46.319239Z"
        },
        "trusted": true,
        "id": "KSpT4RTKjcWQ"
      },
      "execution_count": null,
      "outputs": []
    },
    {
      "cell_type": "code",
      "source": [
        "# Plot training and validation accuracy values\n",
        "plt.plot(history_gender.history['accuracy'])\n",
        "plt.plot(history_gender.history['val_accuracy'])\n",
        "plt.title('Accuracy')\n",
        "plt.ylabel('Accuracy')\n",
        "plt.xlabel('Epoch')\n",
        "plt.legend(['Train','Validation'], loc = 'upper left')\n",
        "plt.show()\n",
        "\n",
        "# Plot training and validation accuracy values\n",
        "plt.plot(history_gender.history['loss'])\n",
        "plt.plot(history_gender.history['val_loss'])\n",
        "plt.title('Model Loss')\n",
        "plt.ylabel('Loss')\n",
        "plt.xlabel('Epoch')\n",
        "plt.legend(['Train','Validation'], loc = 'upper left')\n",
        "plt.show()"
      ],
      "metadata": {
        "execution": {
          "iopub.status.busy": "2022-04-12T15:06:46.322053Z",
          "iopub.execute_input": "2022-04-12T15:06:46.322679Z",
          "iopub.status.idle": "2022-04-12T15:06:46.718876Z",
          "shell.execute_reply.started": "2022-04-12T15:06:46.32263Z",
          "shell.execute_reply": "2022-04-12T15:06:46.718032Z"
        },
        "trusted": true,
        "id": "v4a2KrKEjcWQ"
      },
      "execution_count": null,
      "outputs": []
    },
    {
      "cell_type": "markdown",
      "source": [
        "### Multi-task Learning using ConvNets: Accent and Gender"
      ],
      "metadata": {
        "id": "uujprI9qjcWR"
      }
    },
    {
      "cell_type": "code",
      "source": [
        "def create_multitask_cnn():\n",
        "    # Create CNN model\n",
        "    input_layer = Input(shape=(13, 862,1), name='Input')\n",
        "    # conv 1\n",
        "    conv = Conv2D(32, 3, padding='same', activation='relu')(input_layer)\n",
        "    batchnorm = BatchNormalization()(conv)\n",
        "    maxpool = MaxPooling2D(pool_size=(2, 2))(batchnorm)\n",
        "    batchnorm1 = BatchNormalization()(maxpool)\n",
        "    # conv 2\n",
        "    conv1 = Conv2D(32, 3, padding='same', activation='relu')(batchnorm1)\n",
        "    batchnorm2 = BatchNormalization()(conv1)\n",
        "    maxpool1 = MaxPooling2D(pool_size=(2, 2))(batchnorm1)\n",
        "    batchnorm3 = BatchNormalization()(maxpool1)\n",
        "    # conv 3\n",
        "    conv2 = Conv2D(128, 3, padding='same', activation='relu')(batchnorm3)\n",
        "    batchnorm4 = BatchNormalization()(conv2)\n",
        "    maxpool2 = MaxPooling2D(pool_size=(2, 2))(batchnorm4)\n",
        "    batchnorm5 = BatchNormalization()(maxpool2)\n",
        "    # flatten\n",
        "    flatten = Flatten()(batchnorm5)\n",
        "    dense = Dense(64, activation='relu',name='Hidden_1')(flatten)\n",
        "    dropout = Dropout(0.5)(dense)\n",
        "    # output\n",
        "    out_accent = Dense(2, activation='sigmoid',name='output_accent')(dropout)\n",
        "    out_gender = Dense(2, activation='sigmoid',name='output_gender')(dropout)\n",
        "\n",
        "    model_cnn = Model(inputs = input_layer ,outputs=[out_accent, out_gender])\n",
        "    return model_cnn"
      ],
      "metadata": {
        "execution": {
          "iopub.status.busy": "2022-04-12T15:06:46.720022Z",
          "iopub.execute_input": "2022-04-12T15:06:46.72091Z",
          "iopub.status.idle": "2022-04-12T15:06:46.733468Z",
          "shell.execute_reply.started": "2022-04-12T15:06:46.720853Z",
          "shell.execute_reply": "2022-04-12T15:06:46.732521Z"
        },
        "trusted": true,
        "id": "NLa-VyBtjcWR"
      },
      "execution_count": null,
      "outputs": []
    },
    {
      "cell_type": "code",
      "source": [
        "multitask_cnn = create_multitask_cnn()\n",
        "multitask_cnn.summary()"
      ],
      "metadata": {
        "execution": {
          "iopub.status.busy": "2022-04-12T15:06:46.73637Z",
          "iopub.execute_input": "2022-04-12T15:06:46.737156Z",
          "iopub.status.idle": "2022-04-12T15:06:46.885895Z",
          "shell.execute_reply.started": "2022-04-12T15:06:46.737091Z",
          "shell.execute_reply": "2022-04-12T15:06:46.884989Z"
        },
        "trusted": true,
        "id": "CYLN2a8ujcWS"
      },
      "execution_count": null,
      "outputs": []
    },
    {
      "cell_type": "code",
      "source": [
        "multitask_cnn.compile(optimizer='Adam',loss={'output_accent':'binary_crossentropy','output_gender': 'binary_crossentropy'}, metrics ={'output_accent': 'accuracy', 'output_gender': 'accuracy'})"
      ],
      "metadata": {
        "execution": {
          "iopub.status.busy": "2022-04-12T15:06:46.887191Z",
          "iopub.execute_input": "2022-04-12T15:06:46.887438Z",
          "iopub.status.idle": "2022-04-12T15:06:46.899142Z",
          "shell.execute_reply.started": "2022-04-12T15:06:46.887408Z",
          "shell.execute_reply": "2022-04-12T15:06:46.898317Z"
        },
        "trusted": true,
        "id": "xAlzGIHajcWS"
      },
      "execution_count": null,
      "outputs": []
    },
    {
      "cell_type": "code",
      "source": [
        "## Training my model\n",
        "\n",
        "num_epochs = 35\n",
        "num_batch_size = 32\n",
        "\n",
        "checkpointer = ModelCheckpoint(filepath=OUTPUT_DIR + 'saved_models/multitask_classification_cnn.h5',\n",
        "                               verbose=1, save_best_only=True,patience=10, monitor='val_loss', mode='min')\n",
        "early_stopping = EarlyStopping(monitor=\"val_loss\", mode=\"min\", patience=10)\n",
        "\n",
        "start = datetime.now()\n",
        "\n",
        "history_multitask_cnn = multitask_cnn.fit(X_train, {\"output_accent\": y_accent_train, \"output_gender\": y_gender_train},validation_data=(X_val,{\"output_accent\": y_accent_val, \"output_gender\": y_gender_val}),\n",
        "                        batch_size=num_batch_size, epochs=num_epochs, callbacks=[checkpointer], verbose=1)\n",
        "\n",
        "\n",
        "duration = datetime.now() - start\n",
        "print(\"Training completed in time: \", duration)"
      ],
      "metadata": {
        "execution": {
          "iopub.status.busy": "2022-04-12T15:06:46.900541Z",
          "iopub.execute_input": "2022-04-12T15:06:46.900792Z",
          "iopub.status.idle": "2022-04-12T15:09:10.153617Z",
          "shell.execute_reply.started": "2022-04-12T15:06:46.900762Z",
          "shell.execute_reply": "2022-04-12T15:09:10.152508Z"
        },
        "trusted": true,
        "id": "FZ81t7NRjcWT"
      },
      "execution_count": null,
      "outputs": []
    },
    {
      "cell_type": "code",
      "source": [
        "results_multitask_cnn = multitask_cnn.evaluate(X_test, {\"output_accent\": y_accent_test, \"output_gender\": y_gender_test})\n",
        "print(results_multitask_cnn)"
      ],
      "metadata": {
        "execution": {
          "iopub.status.busy": "2022-04-12T15:09:10.155257Z",
          "iopub.execute_input": "2022-04-12T15:09:10.15558Z",
          "iopub.status.idle": "2022-04-12T15:09:10.442928Z",
          "shell.execute_reply.started": "2022-04-12T15:09:10.155534Z",
          "shell.execute_reply": "2022-04-12T15:09:10.442018Z"
        },
        "trusted": true,
        "id": "v3a_XuT7jcWT"
      },
      "execution_count": null,
      "outputs": []
    },
    {
      "cell_type": "code",
      "source": [
        "accent_prediction, gender_prediction = multitask_cnn.predict(X_test)\n",
        "prediction_accent_rounded = [np.argmax(i) for i in accent_prediction]\n",
        "# prediction_ANN_rounded[0]\n",
        "y_test_index = [np.argmax(i) for i in y_accent_test]"
      ],
      "metadata": {
        "execution": {
          "iopub.status.busy": "2022-04-12T18:03:18.836067Z",
          "iopub.execute_input": "2022-04-12T18:03:18.836427Z",
          "iopub.status.idle": "2022-04-12T18:03:19.181058Z",
          "shell.execute_reply.started": "2022-04-12T18:03:18.83639Z",
          "shell.execute_reply": "2022-04-12T18:03:19.180362Z"
        },
        "trusted": true,
        "id": "irUAt32zjcWU"
      },
      "execution_count": null,
      "outputs": []
    },
    {
      "cell_type": "code",
      "source": [
        "import tensorflow as tf\n",
        "\n",
        "#Confusion Matrix - verify accuracy of each class\n",
        "import seaborn as sns\n",
        "cm = tf.math.confusion_matrix(labels = y_test_index, predictions = prediction_accent_rounded)\n",
        "plt.figure(figsize = (12,7))\n",
        "sns.heatmap(cm,annot=True, fmt='d')\n",
        "plt.xlabel('Prediction')\n",
        "plt.ylabel('True_value')"
      ],
      "metadata": {
        "execution": {
          "iopub.status.busy": "2022-04-12T18:03:19.803001Z",
          "iopub.execute_input": "2022-04-12T18:03:19.803901Z",
          "iopub.status.idle": "2022-04-12T18:03:20.081863Z",
          "shell.execute_reply.started": "2022-04-12T18:03:19.80386Z",
          "shell.execute_reply": "2022-04-12T18:03:20.081164Z"
        },
        "trusted": true,
        "id": "96d6biDAjcWU"
      },
      "execution_count": null,
      "outputs": []
    },
    {
      "cell_type": "code",
      "source": [
        "prediction_gender_rounded = [np.argmax(i) for i in gender_prediction]\n",
        "# prediction_ANN_rounded[0]\n",
        "y_test_gender_index = [np.argmax(i) for i in y_gender_test]\n",
        "cm = tf.math.confusion_matrix(labels = y_test_gender_index, predictions = prediction_gender_rounded)\n",
        "plt.figure(figsize = (12,7))\n",
        "sns.heatmap(cm,annot=True, fmt='d')\n",
        "plt.xlabel('Prediction')\n",
        "plt.ylabel('True_value')"
      ],
      "metadata": {
        "execution": {
          "iopub.status.busy": "2022-04-12T18:03:20.479492Z",
          "iopub.execute_input": "2022-04-12T18:03:20.479796Z",
          "iopub.status.idle": "2022-04-12T18:03:20.735937Z",
          "shell.execute_reply.started": "2022-04-12T18:03:20.47975Z",
          "shell.execute_reply": "2022-04-12T18:03:20.734182Z"
        },
        "trusted": true,
        "id": "o4x0CHQijcWV"
      },
      "execution_count": null,
      "outputs": []
    },
    {
      "cell_type": "code",
      "source": [
        "from sklearn.metrics import classification_report\n",
        "\n",
        "print(classification_report(y_test_gender_index, prediction_gender_rounded))"
      ],
      "metadata": {
        "execution": {
          "iopub.status.busy": "2022-04-12T18:03:22.18778Z",
          "iopub.execute_input": "2022-04-12T18:03:22.189061Z",
          "iopub.status.idle": "2022-04-12T18:03:22.201637Z",
          "shell.execute_reply.started": "2022-04-12T18:03:22.188998Z",
          "shell.execute_reply": "2022-04-12T18:03:22.200409Z"
        },
        "trusted": true,
        "id": "xiWBk-VHjcWV"
      },
      "execution_count": null,
      "outputs": []
    },
    {
      "cell_type": "code",
      "source": [
        "print(classification_report(y_test_index, prediction_accent_rounded))"
      ],
      "metadata": {
        "execution": {
          "iopub.status.busy": "2022-04-12T18:03:23.309958Z",
          "iopub.execute_input": "2022-04-12T18:03:23.31101Z",
          "iopub.status.idle": "2022-04-12T18:03:23.322866Z",
          "shell.execute_reply.started": "2022-04-12T18:03:23.310937Z",
          "shell.execute_reply": "2022-04-12T18:03:23.321935Z"
        },
        "trusted": true,
        "id": "koq7-Uc8jcWV"
      },
      "execution_count": null,
      "outputs": []
    },
    {
      "cell_type": "code",
      "source": [
        "# Plot training and validation accuracy values\n",
        "plt.plot(history_multitask_cnn.history['output_accent_accuracy'])\n",
        "plt.plot(history_multitask_cnn.history['val_output_accent_accuracy'])\n",
        "plt.plot(history_multitask_cnn.history['output_gender_accuracy'])\n",
        "plt.plot(history_multitask_cnn.history['val_output_gender_accuracy'])\n",
        "plt.title('Accuracy')\n",
        "plt.ylabel('Accuracy')\n",
        "plt.xlabel('Epoch')\n",
        "plt.legend(['Train(Accent)','Validation(Accent)', 'Train(Gender)','Validation(Gender)'], loc = 'upper left')\n",
        "plt.show()\n",
        "\n",
        "# Plot training and validation accuracy values\n",
        "plt.plot(history_multitask_cnn.history['loss'])\n",
        "plt.plot(history_multitask_cnn.history['val_loss'])\n",
        "plt.title('Model Loss')\n",
        "plt.ylabel('Loss')\n",
        "plt.xlabel('Epoch')\n",
        "plt.legend(['Train','Validation'], loc = 'upper left')\n",
        "plt.show()"
      ],
      "metadata": {
        "execution": {
          "iopub.status.busy": "2022-04-12T15:09:10.444279Z",
          "iopub.execute_input": "2022-04-12T15:09:10.444554Z",
          "iopub.status.idle": "2022-04-12T15:09:10.890164Z",
          "shell.execute_reply.started": "2022-04-12T15:09:10.444525Z",
          "shell.execute_reply": "2022-04-12T15:09:10.889301Z"
        },
        "trusted": true,
        "id": "Cxv_B6-3jcWW"
      },
      "execution_count": null,
      "outputs": []
    },
    {
      "cell_type": "markdown",
      "source": [
        "# LSTM"
      ],
      "metadata": {
        "id": "5VVGIzUZjcWW"
      }
    },
    {
      "cell_type": "markdown",
      "source": [
        "### LSTM - Accent classification"
      ],
      "metadata": {
        "id": "PLLOYSNijcWX"
      }
    },
    {
      "cell_type": "code",
      "source": [
        "def create_LSTM():\n",
        "    # Create CNN model\n",
        "    input_layer = Input(shape=(13, 862), name='Input')\n",
        "\n",
        "    lstm_1 = LSTM(64, return_sequences=True)(input_layer)\n",
        "    lstm_2 = LSTM(64)(lstm_1)\n",
        "    dense = Dense(64, activation='relu',name='Hidden_1')(lstm_2)\n",
        "\n",
        "#     lstm_3 = LSTM(64, stateful=False)(lstm_2)\n",
        "    dropout = Dropout(0.5)(dense)\n",
        "    # output\n",
        "    out_accent = Dense(2, activation='sigmoid',name='output_accent')(dropout)\n",
        "#     out_gender = Dense(2, activation='sigmoid',name='output_gender')(dropout)\n",
        "\n",
        "    model = Model(inputs = input_layer ,outputs=out_accent)\n",
        "    return model"
      ],
      "metadata": {
        "execution": {
          "iopub.status.busy": "2022-04-05T23:45:04.40093Z",
          "iopub.execute_input": "2022-04-05T23:45:04.401207Z",
          "iopub.status.idle": "2022-04-05T23:45:04.407207Z",
          "shell.execute_reply.started": "2022-04-05T23:45:04.401172Z",
          "shell.execute_reply": "2022-04-05T23:45:04.406346Z"
        },
        "trusted": true,
        "id": "e8R7rt4RjcWX"
      },
      "execution_count": null,
      "outputs": []
    },
    {
      "cell_type": "code",
      "source": [
        "accent_lstm = create_LSTM()"
      ],
      "metadata": {
        "execution": {
          "iopub.status.busy": "2022-04-05T23:46:27.448022Z",
          "iopub.execute_input": "2022-04-05T23:46:27.448326Z",
          "iopub.status.idle": "2022-04-05T23:46:27.871645Z",
          "shell.execute_reply.started": "2022-04-05T23:46:27.448285Z",
          "shell.execute_reply": "2022-04-05T23:46:27.870943Z"
        },
        "trusted": true,
        "id": "EjOEaKNKjcWY"
      },
      "execution_count": null,
      "outputs": []
    },
    {
      "cell_type": "code",
      "source": [
        "accent_lstm.compile(optimizer='Adam',loss='binary_crossentropy', metrics =['accuracy'])"
      ],
      "metadata": {
        "execution": {
          "iopub.status.busy": "2022-04-05T23:46:27.87297Z",
          "iopub.execute_input": "2022-04-05T23:46:27.873317Z",
          "iopub.status.idle": "2022-04-05T23:46:27.881341Z",
          "shell.execute_reply.started": "2022-04-05T23:46:27.873286Z",
          "shell.execute_reply": "2022-04-05T23:46:27.880632Z"
        },
        "trusted": true,
        "id": "4a86X_yPjcWZ"
      },
      "execution_count": null,
      "outputs": []
    },
    {
      "cell_type": "code",
      "source": [
        "## Trianing my model\n",
        "from tensorflow.keras.callbacks import ModelCheckpoint\n",
        "from datetime import datetime\n",
        "\n",
        "num_epochs = 35\n",
        "num_batch_size = 32\n",
        "\n",
        "checkpointer = ModelCheckpoint(filepath=OUTPUT_DIR +'saved_models/accent_classification.h5',\n",
        "                               verbose=1, save_best_only=True,patience=10, mode='max', monitor='val_accuracy')\n",
        "early_stopping = EarlyStopping(monitor=\"val_loss\", mode=\"min\", patience=7)\n",
        "\n",
        "start = datetime.now()\n",
        "\n",
        "history_accent_lstm = accent_lstm.fit(X_train, y_accent_train, batch_size=num_batch_size, epochs=num_epochs, validation_data=(X_val, y_accent_val), callbacks=[checkpointer, early_stopping], verbose=1)\n",
        "\n",
        "\n",
        "duration = datetime.now() - start\n",
        "print(\"Training completed in time: \", duration)"
      ],
      "metadata": {
        "execution": {
          "iopub.status.busy": "2022-04-05T23:46:27.895264Z",
          "iopub.execute_input": "2022-04-05T23:46:27.8955Z",
          "iopub.status.idle": "2022-04-05T23:46:38.990824Z",
          "shell.execute_reply.started": "2022-04-05T23:46:27.895473Z",
          "shell.execute_reply": "2022-04-05T23:46:38.989921Z"
        },
        "trusted": true,
        "id": "9d8tJlWLjcWa"
      },
      "execution_count": null,
      "outputs": []
    },
    {
      "cell_type": "code",
      "source": [
        "results_accent_lstm = accent_lstm.evaluate(X_test, y_accent_test)\n",
        "print(results_accent_lstm)"
      ],
      "metadata": {
        "execution": {
          "iopub.status.busy": "2022-04-05T23:46:38.992675Z",
          "iopub.execute_input": "2022-04-05T23:46:38.993155Z",
          "iopub.status.idle": "2022-04-05T23:46:40.78864Z",
          "shell.execute_reply.started": "2022-04-05T23:46:38.993111Z",
          "shell.execute_reply": "2022-04-05T23:46:40.787886Z"
        },
        "trusted": true,
        "id": "hFxSlMACjcWb"
      },
      "execution_count": null,
      "outputs": []
    },
    {
      "cell_type": "markdown",
      "source": [
        "### LSTM multitask"
      ],
      "metadata": {
        "id": "_KKQwn_qjcWc"
      }
    },
    {
      "cell_type": "code",
      "source": [],
      "metadata": {
        "id": "pTlZznXWjcWd"
      },
      "execution_count": null,
      "outputs": []
    },
    {
      "cell_type": "code",
      "source": [
        "def create_LSTM_multi():\n",
        "    # Create CNN model\n",
        "    input_layer = Input(shape=(13, 862), name='Input')\n",
        "\n",
        "#     lstm_1 = LSTM(64, return_sequences=True)(input_layer)\n",
        "    lstm_2 = LSTM(100)(input_layer)\n",
        "\n",
        "#     lstm_3 = LSTM(64, stateful=False)(lstm_2)\n",
        "    dropout = Dropout(0.25)(lstm_2)\n",
        "    # output\n",
        "    out_accent = Dense(2, activation='sigmoid',name='output_accent')(dropout)\n",
        "    out_gender = Dense(2, activation='sigmoid',name='output_gender')(dropout)\n",
        "\n",
        "    model_cnn = Model(inputs = input_layer ,outputs=[out_accent, out_gender])\n",
        "    return model_cnn"
      ],
      "metadata": {
        "execution": {
          "iopub.status.busy": "2022-04-05T23:36:54.344147Z",
          "iopub.execute_input": "2022-04-05T23:36:54.345028Z",
          "iopub.status.idle": "2022-04-05T23:36:54.350404Z",
          "shell.execute_reply.started": "2022-04-05T23:36:54.344988Z",
          "shell.execute_reply": "2022-04-05T23:36:54.349822Z"
        },
        "trusted": true,
        "id": "jajBCYjPjcWe"
      },
      "execution_count": null,
      "outputs": []
    },
    {
      "cell_type": "code",
      "source": [
        "multitask_lstm = create_LSTM_multi()"
      ],
      "metadata": {
        "execution": {
          "iopub.status.busy": "2022-04-05T23:36:55.231525Z",
          "iopub.execute_input": "2022-04-05T23:36:55.23185Z",
          "iopub.status.idle": "2022-04-05T23:36:55.463476Z",
          "shell.execute_reply.started": "2022-04-05T23:36:55.231798Z",
          "shell.execute_reply": "2022-04-05T23:36:55.462898Z"
        },
        "trusted": true,
        "id": "qVS1PxOzjcWe"
      },
      "execution_count": null,
      "outputs": []
    },
    {
      "cell_type": "code",
      "source": [
        "multitask_lstm.compile(optimizer='Adam',loss={'output_accent':'binary_crossentropy','output_gender': 'binary_crossentropy'}, metrics ={'output_accent': 'accuracy', 'output_gender': 'accuracy'})"
      ],
      "metadata": {
        "execution": {
          "iopub.status.busy": "2022-04-05T23:36:57.855333Z",
          "iopub.execute_input": "2022-04-05T23:36:57.856036Z",
          "iopub.status.idle": "2022-04-05T23:36:57.866106Z",
          "shell.execute_reply.started": "2022-04-05T23:36:57.855987Z",
          "shell.execute_reply": "2022-04-05T23:36:57.865207Z"
        },
        "trusted": true,
        "id": "1HXEiwvpjcWe"
      },
      "execution_count": null,
      "outputs": []
    },
    {
      "cell_type": "code",
      "source": [
        "## Training my model\n",
        "\n",
        "num_epochs = 35\n",
        "num_batch_size = 32\n",
        "\n",
        "checkpointer = ModelCheckpoint(filepath=OUTPUT_DIR + 'saved_models/multitask_classification_lstm.h5',\n",
        "                               verbose=1, save_best_only=True,patience=10, monitor='val_loss', mode='min')\n",
        "early_stopping = EarlyStopping(monitor=\"val_loss\", mode=\"min\", patience=10)\n",
        "\n",
        "start = datetime.now()\n",
        "\n",
        "history_multitask_lstm = multitask_lstm.fit(X_train, {\"output_accent\": y_accent_train, \"output_gender\": y_gender_train},validation_data=(X_val,{\"output_accent\": y_accent_val, \"output_gender\": y_gender_val}),\n",
        "                        batch_size=num_batch_size, epochs=num_epochs, callbacks=[checkpointer], verbose=1)\n",
        "\n",
        "\n",
        "duration = datetime.now() - start\n",
        "print(\"Training completed in time: \", duration)"
      ],
      "metadata": {
        "execution": {
          "iopub.status.busy": "2022-04-05T23:37:00.914233Z",
          "iopub.execute_input": "2022-04-05T23:37:00.914726Z",
          "iopub.status.idle": "2022-04-05T23:37:24.504684Z",
          "shell.execute_reply.started": "2022-04-05T23:37:00.914692Z",
          "shell.execute_reply": "2022-04-05T23:37:24.504104Z"
        },
        "trusted": true,
        "id": "UczoqgdjjcWf"
      },
      "execution_count": null,
      "outputs": []
    },
    {
      "cell_type": "code",
      "source": [
        "results_multitask_lstm = multitask_lstm.evaluate(X_test, {\"output_accent\": y_accent_test, \"output_gender\": y_gender_test})\n",
        "print(results_multitask_lstm)"
      ],
      "metadata": {
        "execution": {
          "iopub.status.busy": "2022-04-05T23:37:24.50796Z",
          "iopub.execute_input": "2022-04-05T23:37:24.508179Z",
          "iopub.status.idle": "2022-04-05T23:37:24.639094Z",
          "shell.execute_reply.started": "2022-04-05T23:37:24.508151Z",
          "shell.execute_reply": "2022-04-05T23:37:24.638254Z"
        },
        "trusted": true,
        "id": "103HpoXpjcWg"
      },
      "execution_count": null,
      "outputs": []
    },
    {
      "cell_type": "markdown",
      "source": [
        "# CRNN"
      ],
      "metadata": {
        "id": "ip_o69QhjcWg"
      }
    },
    {
      "cell_type": "markdown",
      "source": [
        "### CRNN - Accent classificaiton"
      ],
      "metadata": {
        "id": "HbH5tTdBjcWg"
      }
    },
    {
      "cell_type": "code",
      "source": [
        "from keras.layers.core import Dense, Permute, Reshape\n",
        "from keras.layers.wrappers import Bidirectional\n",
        "def create_CRNN_model(input_shape, config, is_training=True):\n",
        "\n",
        "    model = Sequential()\n",
        "\n",
        "    model.add(Conv2D(32, 3, activation=\"relu\",padding='same', input_shape=input_shape))\n",
        "    model.add(BatchNormalization())\n",
        "    model.add(MaxPooling2D(pool_size=(2, 2)))\n",
        "\n",
        "    model.add(Conv2D(32, 3, activation=\"relu\",padding='same'))\n",
        "    model.add(BatchNormalization())\n",
        "    model.add(MaxPooling2D(pool_size=(2, 2)))\n",
        "\n",
        "    model.add(Conv2D(128, 3, activation=\"relu\",padding='same'))\n",
        "    model.add(BatchNormalization())\n",
        "    model.add(MaxPooling2D(pool_size=(2, 2)))\n",
        "\n",
        "#     model.add(Conv2D(256, 3, activation=\"relu\",padding='same'))\n",
        "#     model.add(BatchNormalization())\n",
        "#     model.add(MaxPooling2D(pool_size=(2, 2)))\n",
        "\n",
        "#     model.add(Conv2D(512, 3, 3, W_regularizer=l2(weight_decay), activation=\"relu\"))\n",
        "#     model.add(BatchNormalization())\n",
        "    # model.add(MaxPooling2D(pool_size=(2, 2), strides=(2, 2)))\n",
        "\n",
        "#     model.add(Convolution2D(512, 3, 3, W_regularizer=l2(weight_decay), activation=\"relu\"))\n",
        "#     model.add(BatchNormalization())\n",
        "#     model.add(MaxPooling2D(pool_size=(2, 2), strides=(2, 2)))\n",
        "\n",
        "#     model.add(Conv2D(512, 3, 3, W_regularizer=l2(weight_decay), activation=\"relu\"))\n",
        "#     model.add(BatchNormalization())\n",
        "#     model.add(MaxPooling2D(pool_size=(2, 2), strides=(2, 2)))\n",
        "\n",
        "\n",
        "#     input_layer = Input(shape=(13, 862,1), name='Input')\n",
        "#     # conv 1\n",
        "#     conv = Conv2D(32, 3, padding='same', activation='relu')(input_layer)\n",
        "#     batchnorm = BatchNormalization()(conv)\n",
        "#     maxpool = MaxPooling2D(pool_size=(2, 2))(batchnorm)\n",
        "#     batchnorm1 = BatchNormalization()(maxpool)\n",
        "#     # conv 2\n",
        "#     conv1 = Conv2D(32, 3, padding='same', activation='relu')(batchnorm1)\n",
        "#     batchnorm2 = BatchNormalization()(conv1)\n",
        "#     maxpool1 = MaxPooling2D(pool_size=(2, 2))(batchnorm1)\n",
        "#     batchnorm3 = BatchNormalization()(maxpool1)\n",
        "#     # conv 3\n",
        "#     conv2 = Conv2D(128, 3, padding='same', activation='relu')(batchnorm3)\n",
        "#     batchnorm4 = BatchNormalization()(conv2)\n",
        "#     maxpool2 = MaxPooling2D(pool_size=(2, 2))(batchnorm4)\n",
        "#     batchnorm5 = BatchNormalization()(maxpool2)\n",
        "\n",
        "    # (bs, y, x, c) --> (bs, x, y, c)\n",
        "    model.add(Permute((2, 1, 3)))\n",
        "\n",
        "    # (bs, x, y, c) --> (bs, x, y * c)\n",
        "    bs, x, y, c = model.layers[-1].output_shape\n",
        "    model.add(Reshape((x, y*c)))\n",
        "\n",
        "    model.add(Bidirectional(LSTM(256, return_sequences=False), merge_mode=\"concat\"))\n",
        "    model.add(Dense(2, activation=\"sigmoid\"))\n",
        "\n",
        "\n",
        "    return model"
      ],
      "metadata": {
        "execution": {
          "iopub.status.busy": "2022-04-12T15:15:18.042724Z",
          "iopub.execute_input": "2022-04-12T15:15:18.043042Z",
          "iopub.status.idle": "2022-04-12T15:15:18.055203Z",
          "shell.execute_reply.started": "2022-04-12T15:15:18.043005Z",
          "shell.execute_reply": "2022-04-12T15:15:18.054521Z"
        },
        "trusted": true,
        "id": "UVsnL1PcjcWh"
      },
      "execution_count": null,
      "outputs": []
    },
    {
      "cell_type": "code",
      "source": [
        "crnn_model = create_CRNN_model((13,862,1), config)"
      ],
      "metadata": {
        "execution": {
          "iopub.status.busy": "2022-04-12T15:15:19.144193Z",
          "iopub.execute_input": "2022-04-12T15:15:19.14447Z",
          "iopub.status.idle": "2022-04-12T15:15:19.756133Z",
          "shell.execute_reply.started": "2022-04-12T15:15:19.144432Z",
          "shell.execute_reply": "2022-04-12T15:15:19.755207Z"
        },
        "trusted": true,
        "id": "y4KLpkU7jcWh"
      },
      "execution_count": null,
      "outputs": []
    },
    {
      "cell_type": "code",
      "source": [
        "crnn_model.compile(optimizer='Adam',loss='binary_crossentropy', metrics =['accuracy'])"
      ],
      "metadata": {
        "execution": {
          "iopub.status.busy": "2022-04-12T15:15:20.920833Z",
          "iopub.execute_input": "2022-04-12T15:15:20.921104Z",
          "iopub.status.idle": "2022-04-12T15:15:20.932108Z",
          "shell.execute_reply.started": "2022-04-12T15:15:20.921074Z",
          "shell.execute_reply": "2022-04-12T15:15:20.931464Z"
        },
        "trusted": true,
        "id": "AldM09UtjcWi"
      },
      "execution_count": null,
      "outputs": []
    },
    {
      "cell_type": "code",
      "source": [
        "## Trianing my model\n",
        "from tensorflow.keras.callbacks import ModelCheckpoint\n",
        "from datetime import datetime\n",
        "\n",
        "num_epochs = 35\n",
        "num_batch_size = 32\n",
        "\n",
        "checkpointer = ModelCheckpoint(filepath=OUTPUT_DIR +'saved_models/accent_crnn_classification.h5',\n",
        "                               verbose=1, save_best_only=True,patience=10, mode='max', monitor='val_accuracy')\n",
        "early_stopping = EarlyStopping(monitor=\"val_loss\", mode=\"min\", patience=5)\n",
        "\n",
        "start = datetime.now()\n",
        "\n",
        "history_accent_lstm = crnn_model.fit(X_train, y_accent_train, batch_size=num_batch_size, epochs=num_epochs, validation_data=(X_val, y_accent_val), callbacks=[checkpointer, early_stopping], verbose=1)\n",
        "\n",
        "\n",
        "duration = datetime.now() - start\n",
        "print(\"Training completed in time: \", duration)"
      ],
      "metadata": {
        "execution": {
          "iopub.status.busy": "2022-04-12T15:15:24.352725Z",
          "iopub.execute_input": "2022-04-12T15:15:24.35332Z",
          "iopub.status.idle": "2022-04-12T15:17:18.321751Z",
          "shell.execute_reply.started": "2022-04-12T15:15:24.353277Z",
          "shell.execute_reply": "2022-04-12T15:17:18.320817Z"
        },
        "trusted": true,
        "id": "xWLmgyV0jcWi"
      },
      "execution_count": null,
      "outputs": []
    },
    {
      "cell_type": "code",
      "source": [
        "from keras.models import load_model\n",
        "crnn_accent_model = load_model('/kaggle/working/saved_models/accent_crnn_classification.h5')\n",
        "results_accent_crnn = crnn_accent_model.evaluate(X_test, y_accent_test)\n",
        "print(results_accent_crnn)"
      ],
      "metadata": {
        "execution": {
          "iopub.status.busy": "2022-04-12T15:17:18.323452Z",
          "iopub.execute_input": "2022-04-12T15:17:18.323759Z",
          "iopub.status.idle": "2022-04-12T15:17:21.144401Z",
          "shell.execute_reply.started": "2022-04-12T15:17:18.323716Z",
          "shell.execute_reply": "2022-04-12T15:17:21.143801Z"
        },
        "trusted": true,
        "id": "Q9Uajc89jcWi"
      },
      "execution_count": null,
      "outputs": []
    },
    {
      "cell_type": "markdown",
      "source": [
        "### CRNN - Gender Classification"
      ],
      "metadata": {
        "id": "3hPlJs12jcWi"
      }
    },
    {
      "cell_type": "code",
      "source": [
        "crnn_model_gender = create_CRNN_model((13,862,1), config)"
      ],
      "metadata": {
        "execution": {
          "iopub.status.busy": "2022-04-12T15:17:21.145502Z",
          "iopub.execute_input": "2022-04-12T15:17:21.145708Z",
          "iopub.status.idle": "2022-04-12T15:17:21.754113Z",
          "shell.execute_reply.started": "2022-04-12T15:17:21.145682Z",
          "shell.execute_reply": "2022-04-12T15:17:21.753183Z"
        },
        "trusted": true,
        "id": "0Lbb2znUjcWj"
      },
      "execution_count": null,
      "outputs": []
    },
    {
      "cell_type": "code",
      "source": [
        "crnn_model_gender.compile(optimizer='Adam',loss='binary_crossentropy', metrics =['accuracy'])"
      ],
      "metadata": {
        "execution": {
          "iopub.status.busy": "2022-04-12T15:17:21.75665Z",
          "iopub.execute_input": "2022-04-12T15:17:21.756941Z",
          "iopub.status.idle": "2022-04-12T15:17:21.768929Z",
          "shell.execute_reply.started": "2022-04-12T15:17:21.756906Z",
          "shell.execute_reply": "2022-04-12T15:17:21.768016Z"
        },
        "trusted": true,
        "id": "LgXE3vagjcWj"
      },
      "execution_count": null,
      "outputs": []
    },
    {
      "cell_type": "code",
      "source": [
        "## Trianing my model\n",
        "\n",
        "checkpointer = ModelCheckpoint(filepath=OUTPUT_DIR +'saved_models/gender_crnn_classification.h5',\n",
        "                               verbose=1, save_best_only=True,patience=10, mode='max', monitor='val_accuracy')\n",
        "early_stopping = EarlyStopping(monitor=\"val_loss\", mode=\"min\", patience=5)\n",
        "\n",
        "start = datetime.now()\n",
        "\n",
        "history_gender_crnn = crnn_model_gender.fit(X_train, y_gender_train, batch_size=num_batch_size, epochs=num_epochs, validation_data=(X_val, y_gender_val), callbacks=[checkpointer, early_stopping], verbose=1)\n",
        "\n",
        "\n",
        "duration = datetime.now() - start\n",
        "print(\"Training completed in time: \", duration)"
      ],
      "metadata": {
        "execution": {
          "iopub.status.busy": "2022-04-12T15:17:21.770259Z",
          "iopub.execute_input": "2022-04-12T15:17:21.770493Z",
          "iopub.status.idle": "2022-04-12T15:19:14.482001Z",
          "shell.execute_reply.started": "2022-04-12T15:17:21.770463Z",
          "shell.execute_reply": "2022-04-12T15:19:14.481175Z"
        },
        "trusted": true,
        "id": "vn7B_SZ-jcWj"
      },
      "execution_count": null,
      "outputs": []
    },
    {
      "cell_type": "code",
      "source": [
        "from keras.models import load_model\n",
        "crnn_gender_model = load_model('/kaggle/working/saved_models/gender_crnn_classification.h5')\n",
        "results_agender_crnn = crnn_gender_model.evaluate(X_test, y_gender_test)\n",
        "print(results_agender_crnn)"
      ],
      "metadata": {
        "execution": {
          "iopub.status.busy": "2022-04-12T15:19:14.483365Z",
          "iopub.execute_input": "2022-04-12T15:19:14.483864Z",
          "iopub.status.idle": "2022-04-12T15:19:17.316668Z",
          "shell.execute_reply.started": "2022-04-12T15:19:14.483814Z",
          "shell.execute_reply": "2022-04-12T15:19:17.316024Z"
        },
        "trusted": true,
        "id": "dnsAxtjrjcWk"
      },
      "execution_count": null,
      "outputs": []
    },
    {
      "cell_type": "markdown",
      "source": [
        "### Multitask Learning- CRNN"
      ],
      "metadata": {
        "id": "vOCtTEeejcWk"
      }
    },
    {
      "cell_type": "code",
      "source": [
        "def create_CRNN_multitask_model():\n",
        "\n",
        "#     model = Sequential()\n",
        "\n",
        "#     model.add(Conv2D(64, 3, activation=\"relu\",padding='same', input_shape=input_shape))\n",
        "#     model.add(BatchNormalization())\n",
        "#     model.add(MaxPooling2D(pool_size=(2, 2)))\n",
        "\n",
        "#     model.add(Conv2D(128, 3, activation=\"relu\",padding='same'))\n",
        "#     model.add(BatchNormalization())\n",
        "#     model.add(MaxPooling2D(pool_size=(2, 2)))\n",
        "\n",
        "#     model.add(Conv2D(128, 3, activation=\"relu\",padding='same'))\n",
        "#     model.add(BatchNormalization())\n",
        "#     model.add(MaxPooling2D(pool_size=(2, 2)))\n",
        "\n",
        "#     model.add(Conv2D(256, 3, activation=\"relu\",padding='same'))\n",
        "#     model.add(BatchNormalization())\n",
        "#     model.add(MaxPooling2D(pool_size=(2, 2)))\n",
        "\n",
        "#     model.add(Conv2D(512, 3, 3, W_regularizer=l2(weight_decay), activation=\"relu\"))\n",
        "#     model.add(BatchNormalization())\n",
        "    # model.add(MaxPooling2D(pool_size=(2, 2), strides=(2, 2)))\n",
        "\n",
        "#     model.add(Convolution2D(512, 3, 3, W_regularizer=l2(weight_decay), activation=\"relu\"))\n",
        "#     model.add(BatchNormalization())\n",
        "#     model.add(MaxPooling2D(pool_size=(2, 2), strides=(2, 2)))\n",
        "\n",
        "#     model.add(Conv2D(512, 3, 3, W_regularizer=l2(weight_decay), activation=\"relu\"))\n",
        "#     model.add(BatchNormalization())\n",
        "#     model.add(MaxPooling2D(pool_size=(2, 2), strides=(2, 2)))\n",
        "\n",
        "\n",
        "    input_layer = Input(shape=(13, 862,1), name='Input')\n",
        "    # conv 1\n",
        "    conv = Conv2D(32, 3, padding='same', activation='relu')(input_layer)\n",
        "    batchnorm = BatchNormalization()(conv)\n",
        "    maxpool = MaxPooling2D(pool_size=(2, 2))(batchnorm)\n",
        "    # conv 2\n",
        "    conv1 = Conv2D(32, 3, padding='same', activation='relu')(maxpool)\n",
        "    batchnorm2 = BatchNormalization()(conv1)\n",
        "    maxpool1 = MaxPooling2D(pool_size=(2, 2))(batchnorm2)\n",
        "\n",
        "    # conv 3\n",
        "    conv2 = Conv2D(128, 3, padding='same', activation='relu')(maxpool1)\n",
        "    batchnorm4 = BatchNormalization()(conv2)\n",
        "    maxpool2 = MaxPooling2D(pool_size=(2, 2))(batchnorm4)\n",
        "\n",
        "    permute = Permute((2, 1, 3))(maxpool2)\n",
        "    reshaped = Reshape((107, 128))(permute)\n",
        "\n",
        "    lstm = Bidirectional(LSTM(256, return_sequences=False))(reshaped)\n",
        "\n",
        "    out_accent = Dense(2, activation='sigmoid',name='output_accent')(lstm)\n",
        "    out_gender = Dense(2, activation='sigmoid',name='output_gender')(lstm)\n",
        "\n",
        "    # (bs, y, x, c) --> (bs, x, y, c)\n",
        "#     model.add(Permute((2, 1, 3)))\n",
        "\n",
        "#     # (bs, x, y, c) --> (bs, x, y * c)\n",
        "#     bs, x, y, c = model.layers[-1].output_shape\n",
        "#     model.add(Reshape((x, y*c)))\n",
        "\n",
        "#     model.add(Bidirectional(LSTM(256, return_sequences=False), merge_mode=\"concat\"))\n",
        "#     model.add([Dense(2, activation=\"sigmoid\", name='output_accent'),Dense(2, activation=\"sigmoid\", name='output_gender')])\n",
        "    model = Model(inputs = input_layer ,outputs=[out_accent, out_gender])\n",
        "\n",
        "    return model"
      ],
      "metadata": {
        "execution": {
          "iopub.status.busy": "2022-04-12T17:04:57.156886Z",
          "iopub.execute_input": "2022-04-12T17:04:57.157243Z",
          "iopub.status.idle": "2022-04-12T17:04:57.171773Z",
          "shell.execute_reply.started": "2022-04-12T17:04:57.157209Z",
          "shell.execute_reply": "2022-04-12T17:04:57.170652Z"
        },
        "trusted": true,
        "id": "Tj5aTRmcjcWl"
      },
      "execution_count": null,
      "outputs": []
    },
    {
      "cell_type": "code",
      "source": [
        "multitask_crnn = create_CRNN_multitask_model()"
      ],
      "metadata": {
        "execution": {
          "iopub.status.busy": "2022-04-12T17:04:58.411976Z",
          "iopub.execute_input": "2022-04-12T17:04:58.412384Z",
          "iopub.status.idle": "2022-04-12T17:04:59.165676Z",
          "shell.execute_reply.started": "2022-04-12T17:04:58.412336Z",
          "shell.execute_reply": "2022-04-12T17:04:59.164823Z"
        },
        "trusted": true,
        "id": "yn_pFb8fjcWm"
      },
      "execution_count": null,
      "outputs": []
    },
    {
      "cell_type": "code",
      "source": [
        "multitask_crnn.summary()"
      ],
      "metadata": {
        "execution": {
          "iopub.status.busy": "2022-04-12T17:04:59.317963Z",
          "iopub.execute_input": "2022-04-12T17:04:59.318297Z",
          "iopub.status.idle": "2022-04-12T17:04:59.335662Z",
          "shell.execute_reply.started": "2022-04-12T17:04:59.318258Z",
          "shell.execute_reply": "2022-04-12T17:04:59.334203Z"
        },
        "trusted": true,
        "id": "4vauSGTejcWm"
      },
      "execution_count": null,
      "outputs": []
    },
    {
      "cell_type": "code",
      "source": [
        "multitask_crnn.compile(optimizer='Adam',loss={'output_accent':'binary_crossentropy','output_gender': 'binary_crossentropy'}, metrics ={'output_accent': 'accuracy', 'output_gender': 'accuracy'})"
      ],
      "metadata": {
        "execution": {
          "iopub.status.busy": "2022-04-12T17:05:01.156871Z",
          "iopub.execute_input": "2022-04-12T17:05:01.157405Z",
          "iopub.status.idle": "2022-04-12T17:05:01.171048Z",
          "shell.execute_reply.started": "2022-04-12T17:05:01.157362Z",
          "shell.execute_reply": "2022-04-12T17:05:01.169782Z"
        },
        "trusted": true,
        "id": "xF-yXEZNjcWm"
      },
      "execution_count": null,
      "outputs": []
    },
    {
      "cell_type": "code",
      "source": [
        "## Training my model\n",
        "\n",
        "num_epochs = 35\n",
        "num_batch_size = 32\n",
        "\n",
        "checkpointer = ModelCheckpoint(filepath=OUTPUT_DIR + 'saved_models/multitask_classification_crnn.h5',\n",
        "                               verbose=1, save_best_only=True,patience=10, monitor='val_loss', mode='min')\n",
        "early_stopping = EarlyStopping(monitor=\"val_loss\", mode=\"min\", patience=5)\n",
        "\n",
        "start = datetime.now()\n",
        "\n",
        "history_multitask_crnn = multitask_crnn.fit(X_train, {\"output_accent\": y_accent_train, \"output_gender\": y_gender_train},validation_data=(X_val,{\"output_accent\": y_accent_val, \"output_gender\": y_gender_val}),\n",
        "                        batch_size=num_batch_size, epochs=num_epochs, callbacks=[checkpointer, early_stopping], verbose=1)\n",
        "\n",
        "\n",
        "duration = datetime.now() - start\n",
        "print(\"Training completed in time: \", duration)"
      ],
      "metadata": {
        "execution": {
          "iopub.status.busy": "2022-04-12T17:05:03.065755Z",
          "iopub.execute_input": "2022-04-12T17:05:03.066686Z",
          "iopub.status.idle": "2022-04-12T17:12:17.886455Z",
          "shell.execute_reply.started": "2022-04-12T17:05:03.066621Z",
          "shell.execute_reply": "2022-04-12T17:12:17.885151Z"
        },
        "trusted": true,
        "id": "0nKBUsM9jcWn"
      },
      "execution_count": null,
      "outputs": []
    },
    {
      "cell_type": "code",
      "source": [
        "from keras.models import load_model\n",
        "crnn_multi_model = load_model('/kaggle/working/saved_models/multitask_classification_crnn.h5')\n",
        "results_multitask_crnn = crnn_multi_model.evaluate(X_test, {\"output_accent\": y_accent_test, \"output_gender\": y_gender_test})\n",
        "print(results_multitask_crnn)"
      ],
      "metadata": {
        "execution": {
          "iopub.status.busy": "2022-04-12T17:12:24.332862Z",
          "iopub.execute_input": "2022-04-12T17:12:24.333375Z",
          "iopub.status.idle": "2022-04-12T17:12:33.561821Z",
          "shell.execute_reply.started": "2022-04-12T17:12:24.333336Z",
          "shell.execute_reply": "2022-04-12T17:12:33.560935Z"
        },
        "trusted": true,
        "id": "mHRiMM0RjcWn"
      },
      "execution_count": null,
      "outputs": []
    },
    {
      "cell_type": "code",
      "source": [
        "accent_prediction, gender_prediction = crnn_multi_model.predict(X_test)\n",
        "\n",
        "prediction_accent_rounded = [np.argmax(i) for i in accent_prediction]\n",
        "\n",
        "# prediction_ANN_rounded[0]\n",
        "\n",
        "y_test_index = [np.argmax(i) for i in y_accent_test]\n",
        "\n",
        "\n",
        "import tensorflow as tf\n",
        "\n",
        "\n",
        "#Confusion Matrix - verify accuracy of each class\n",
        "\n",
        "import seaborn as sns\n",
        "\n",
        "cm = tf.math.confusion_matrix(labels = y_test_index, predictions = prediction_accent_rounded)\n",
        "\n",
        "plt.figure(figsize = (12,7))\n",
        "\n",
        "sns.heatmap(cm,annot=True, fmt='d')\n",
        "\n",
        "plt.xlabel('Prediction')\n",
        "\n",
        "plt.ylabel('True_value')\n",
        "\n",
        "\n"
      ],
      "metadata": {
        "execution": {
          "iopub.status.busy": "2022-04-12T17:12:38.57825Z",
          "iopub.execute_input": "2022-04-12T17:12:38.578547Z",
          "iopub.status.idle": "2022-04-12T17:12:41.228918Z",
          "shell.execute_reply.started": "2022-04-12T17:12:38.578516Z",
          "shell.execute_reply": "2022-04-12T17:12:41.228036Z"
        },
        "trusted": true,
        "id": "H6FzDt5XjcWn"
      },
      "execution_count": null,
      "outputs": []
    },
    {
      "cell_type": "code",
      "source": [
        "prediction_gender_rounded = [np.argmax(i) for i in gender_prediction]\n",
        "\n",
        "# prediction_ANN_rounded[0]\n",
        "\n",
        "y_test_gender_index = [np.argmax(i) for i in y_gender_test]\n",
        "\n",
        "cm = tf.math.confusion_matrix(labels = y_test_gender_index, predictions = prediction_gender_rounded)\n",
        "\n",
        "plt.figure(figsize = (12,7))\n",
        "\n",
        "sns.heatmap(cm,annot=True, fmt='d')\n",
        "\n",
        "plt.xlabel('Prediction')\n",
        "\n",
        "plt.ylabel('True_value')"
      ],
      "metadata": {
        "execution": {
          "iopub.status.busy": "2022-04-12T17:12:41.230725Z",
          "iopub.execute_input": "2022-04-12T17:12:41.231287Z",
          "iopub.status.idle": "2022-04-12T17:12:41.502421Z",
          "shell.execute_reply.started": "2022-04-12T17:12:41.231239Z",
          "shell.execute_reply": "2022-04-12T17:12:41.501138Z"
        },
        "trusted": true,
        "id": "2xxjctL2jcWo"
      },
      "execution_count": null,
      "outputs": []
    },
    {
      "cell_type": "code",
      "source": [
        "from sklearn.metrics import classification_report\n",
        "\n",
        "print(classification_report(y_test_gender_index, prediction_gender_rounded))"
      ],
      "metadata": {
        "execution": {
          "iopub.status.busy": "2022-04-12T17:12:41.759041Z",
          "iopub.execute_input": "2022-04-12T17:12:41.759388Z",
          "iopub.status.idle": "2022-04-12T17:12:41.774146Z",
          "shell.execute_reply.started": "2022-04-12T17:12:41.759347Z",
          "shell.execute_reply": "2022-04-12T17:12:41.772523Z"
        },
        "trusted": true,
        "id": "xOhDvPy5jcWp"
      },
      "execution_count": null,
      "outputs": []
    },
    {
      "cell_type": "code",
      "source": [
        "from sklearn.metrics import classification_report\n",
        "\n",
        "print(classification_report(y_test_index, prediction_accent_rounded))"
      ],
      "metadata": {
        "execution": {
          "iopub.status.busy": "2022-04-12T17:12:43.274395Z",
          "iopub.execute_input": "2022-04-12T17:12:43.274753Z",
          "iopub.status.idle": "2022-04-12T17:12:43.291246Z",
          "shell.execute_reply.started": "2022-04-12T17:12:43.274717Z",
          "shell.execute_reply": "2022-04-12T17:12:43.289849Z"
        },
        "trusted": true,
        "id": "yUiO0pUAjcWp"
      },
      "execution_count": null,
      "outputs": []
    },
    {
      "cell_type": "markdown",
      "source": [
        "# Testing All the models"
      ],
      "metadata": {
        "id": "IqLy4-gcjcWq"
      }
    },
    {
      "cell_type": "markdown",
      "source": [
        "prepare test samples"
      ],
      "metadata": {
        "id": "YpbBJwkXjcWq"
      }
    },
    {
      "cell_type": "code",
      "source": [
        "test_data = test_data[test_data['file_missing?']==False]"
      ],
      "metadata": {
        "execution": {
          "iopub.status.busy": "2022-04-12T17:16:30.394886Z",
          "iopub.execute_input": "2022-04-12T17:16:30.395278Z",
          "iopub.status.idle": "2022-04-12T17:16:30.402992Z",
          "shell.execute_reply.started": "2022-04-12T17:16:30.395238Z",
          "shell.execute_reply": "2022-04-12T17:16:30.401634Z"
        },
        "trusted": true,
        "id": "5cjvUf1KjcWr"
      },
      "execution_count": null,
      "outputs": []
    },
    {
      "cell_type": "code",
      "source": [
        "test_data.head()"
      ],
      "metadata": {
        "execution": {
          "iopub.status.busy": "2022-04-12T17:16:33.758533Z",
          "iopub.execute_input": "2022-04-12T17:16:33.759469Z",
          "iopub.status.idle": "2022-04-12T17:16:33.782996Z",
          "shell.execute_reply.started": "2022-04-12T17:16:33.759405Z",
          "shell.execute_reply": "2022-04-12T17:16:33.781528Z"
        },
        "trusted": true,
        "id": "1Xm-8iWsjcWs"
      },
      "execution_count": null,
      "outputs": []
    },
    {
      "cell_type": "code",
      "source": [
        "test_data['native_language'].value_counts()"
      ],
      "metadata": {
        "execution": {
          "iopub.status.busy": "2022-04-12T15:59:06.546106Z",
          "iopub.execute_input": "2022-04-12T15:59:06.546653Z",
          "iopub.status.idle": "2022-04-12T15:59:06.553978Z",
          "shell.execute_reply.started": "2022-04-12T15:59:06.546615Z",
          "shell.execute_reply": "2022-04-12T15:59:06.553407Z"
        },
        "trusted": true,
        "id": "2ei75kK0jcWt"
      },
      "execution_count": null,
      "outputs": []
    },
    {
      "cell_type": "code",
      "source": [
        "test_data[test_data['sex']=='female'].head(20)"
      ],
      "metadata": {
        "execution": {
          "iopub.status.busy": "2022-04-12T15:59:31.693591Z",
          "iopub.execute_input": "2022-04-12T15:59:31.694051Z",
          "iopub.status.idle": "2022-04-12T15:59:31.710947Z",
          "shell.execute_reply.started": "2022-04-12T15:59:31.693999Z",
          "shell.execute_reply": "2022-04-12T15:59:31.710362Z"
        },
        "trusted": true,
        "id": "9rnLPwLUjcWz"
      },
      "execution_count": null,
      "outputs": []
    },
    {
      "cell_type": "code",
      "source": [
        "test_data['filename'] = test_data['filename'].apply(lambda x: x+'.mp3')"
      ],
      "metadata": {
        "execution": {
          "iopub.status.busy": "2022-04-12T15:50:24.823418Z",
          "iopub.execute_input": "2022-04-12T15:50:24.823729Z",
          "iopub.status.idle": "2022-04-12T15:50:24.83127Z",
          "shell.execute_reply.started": "2022-04-12T15:50:24.823695Z",
          "shell.execute_reply": "2022-04-12T15:50:24.830232Z"
        },
        "trusted": true,
        "id": "UO2KfcASjcWz"
      },
      "execution_count": null,
      "outputs": []
    },
    {
      "cell_type": "code",
      "source": [
        "f_female_non_native = ['afrikaans1.mp3']"
      ],
      "metadata": {
        "execution": {
          "iopub.status.busy": "2022-04-12T15:59:54.549104Z",
          "iopub.execute_input": "2022-04-12T15:59:54.549454Z",
          "iopub.status.idle": "2022-04-12T15:59:54.55404Z",
          "shell.execute_reply.started": "2022-04-12T15:59:54.549419Z",
          "shell.execute_reply": "2022-04-12T15:59:54.553212Z"
        },
        "trusted": true,
        "id": "tnIXt3KsjcW0"
      },
      "execution_count": null,
      "outputs": []
    },
    {
      "cell_type": "code",
      "source": [
        "data_path = 'recordings/'\n",
        "config = Config(sampling_rate=22050, audio_duration=20, learning_rate=0.0001, n_mfcc=13, n_classes=2)\n",
        "X_female_non_native = prepare_data(f_female_non_native, config, data_path)"
      ],
      "metadata": {
        "execution": {
          "iopub.status.busy": "2022-04-12T15:59:56.284697Z",
          "iopub.execute_input": "2022-04-12T15:59:56.285103Z",
          "iopub.status.idle": "2022-04-12T15:59:56.997985Z",
          "shell.execute_reply.started": "2022-04-12T15:59:56.285073Z",
          "shell.execute_reply": "2022-04-12T15:59:56.996915Z"
        },
        "trusted": true,
        "id": "r75hbgFYjcW0"
      },
      "execution_count": null,
      "outputs": []
    },
    {
      "cell_type": "code",
      "source": [
        "# Play male from Kentucky\n",
        "fname_m = 'recordings/' + 'afrikaans1.mp3'\n",
        "ipd.Audio(fname_m)"
      ],
      "metadata": {
        "execution": {
          "iopub.status.busy": "2022-04-12T16:00:09.639156Z",
          "iopub.execute_input": "2022-04-12T16:00:09.639834Z",
          "iopub.status.idle": "2022-04-12T16:00:09.659189Z",
          "shell.execute_reply.started": "2022-04-12T16:00:09.639788Z",
          "shell.execute_reply": "2022-04-12T16:00:09.657844Z"
        },
        "trusted": true,
        "id": "nCqLz-Y_jcW0"
      },
      "execution_count": null,
      "outputs": []
    },
    {
      "cell_type": "code",
      "source": [
        "a=encoder.transform(['female'])\n",
        "y_female_non_native_gender = to_categorical(np.array(a),  num_classes=2)\n",
        "print(y_female_non_native_gender)"
      ],
      "metadata": {
        "execution": {
          "iopub.status.busy": "2022-04-12T16:07:24.387036Z",
          "iopub.execute_input": "2022-04-12T16:07:24.387844Z",
          "iopub.status.idle": "2022-04-12T16:07:24.394837Z",
          "shell.execute_reply.started": "2022-04-12T16:07:24.387804Z",
          "shell.execute_reply": "2022-04-12T16:07:24.393606Z"
        },
        "trusted": true,
        "id": "V1fxLT52jcW0"
      },
      "execution_count": null,
      "outputs": []
    },
    {
      "cell_type": "code",
      "source": [
        "encoder1.transform(['non-native'])"
      ],
      "metadata": {
        "execution": {
          "iopub.status.busy": "2022-04-12T16:55:44.922621Z",
          "iopub.execute_input": "2022-04-12T16:55:44.923818Z",
          "iopub.status.idle": "2022-04-12T16:55:44.931593Z",
          "shell.execute_reply.started": "2022-04-12T16:55:44.92375Z",
          "shell.execute_reply": "2022-04-12T16:55:44.930702Z"
        },
        "trusted": true,
        "id": "w1--Bw27jcW1"
      },
      "execution_count": null,
      "outputs": []
    },
    {
      "cell_type": "code",
      "source": [
        "encoder.transform(['female'])"
      ],
      "metadata": {
        "execution": {
          "iopub.status.busy": "2022-04-12T17:26:17.09005Z",
          "iopub.execute_input": "2022-04-12T17:26:17.090787Z",
          "iopub.status.idle": "2022-04-12T17:26:17.099184Z",
          "shell.execute_reply.started": "2022-04-12T17:26:17.090723Z",
          "shell.execute_reply": "2022-04-12T17:26:17.09839Z"
        },
        "trusted": true,
        "id": "pCChbRTljcW1"
      },
      "execution_count": null,
      "outputs": []
    },
    {
      "cell_type": "markdown",
      "source": [
        "# Label Encoding:\n",
        "Female - 0\n",
        "Male  - 1\n",
        "\n",
        "Native - 0\n",
        "Non-native - 1"
      ],
      "metadata": {
        "id": "DZlmymwljcW1"
      }
    },
    {
      "cell_type": "code",
      "source": [
        "a=encoder1.transform(['non-native'])\n",
        "y_female_non_native_accent = to_categorical(np.array(a),  num_classes=2)\n",
        "print(y_female_non_native_accent)"
      ],
      "metadata": {
        "execution": {
          "iopub.status.busy": "2022-04-12T16:07:26.086288Z",
          "iopub.execute_input": "2022-04-12T16:07:26.086752Z",
          "iopub.status.idle": "2022-04-12T16:07:26.092798Z",
          "shell.execute_reply.started": "2022-04-12T16:07:26.086719Z",
          "shell.execute_reply": "2022-04-12T16:07:26.091723Z"
        },
        "trusted": true,
        "id": "_oqUFn6AjcW1"
      },
      "execution_count": null,
      "outputs": []
    },
    {
      "cell_type": "code",
      "source": [
        "pred = crnn_multi_model.predict(X_female_non_native)"
      ],
      "metadata": {
        "execution": {
          "iopub.status.busy": "2022-04-12T17:54:48.313701Z",
          "iopub.execute_input": "2022-04-12T17:54:48.314729Z",
          "iopub.status.idle": "2022-04-12T17:54:48.457976Z",
          "shell.execute_reply.started": "2022-04-12T17:54:48.314653Z",
          "shell.execute_reply": "2022-04-12T17:54:48.456687Z"
        },
        "trusted": true,
        "id": "bgJ6HepqjcW2"
      },
      "execution_count": null,
      "outputs": []
    },
    {
      "cell_type": "code",
      "source": [
        "print(\"X=%s, Accent Predicted=%s\" % (pred[0], y_female_non_native_accent[0]))\n",
        "print(\"X=%s, Gender Predicted=%s\" % (pred[1], y_female_non_native_gender[0]))"
      ],
      "metadata": {
        "execution": {
          "iopub.status.busy": "2022-04-12T17:54:49.105975Z",
          "iopub.execute_input": "2022-04-12T17:54:49.106349Z",
          "iopub.status.idle": "2022-04-12T17:54:49.115619Z",
          "shell.execute_reply.started": "2022-04-12T17:54:49.10631Z",
          "shell.execute_reply": "2022-04-12T17:54:49.113745Z"
        },
        "trusted": true,
        "id": "dIXHFUEFjcW2"
      },
      "execution_count": null,
      "outputs": []
    },
    {
      "cell_type": "code",
      "source": [
        "from keras.models import load_model\n",
        "cnn_multi_model = load_model('/kaggle/working/saved_models/multitask_classification_cnn.h5')\n",
        "pred1 = cnn_multi_model.predict(X_female_non_native)\n",
        "print(\"X=%s, Accent Predicted=%s\" % (pred1[0], y_female_non_native_accent[0]))\n",
        "print(\"X=%s, Gender Predicted=%s\" % (pred1[1], y_female_non_native_gender[0]))"
      ],
      "metadata": {
        "execution": {
          "iopub.status.busy": "2022-04-12T16:23:57.996785Z",
          "iopub.execute_input": "2022-04-12T16:23:57.997065Z",
          "iopub.status.idle": "2022-04-12T16:23:58.068204Z",
          "shell.execute_reply.started": "2022-04-12T16:23:57.997035Z",
          "shell.execute_reply": "2022-04-12T16:23:58.067515Z"
        },
        "trusted": true,
        "id": "h0rD7dnSjcW2"
      },
      "execution_count": null,
      "outputs": []
    },
    {
      "cell_type": "markdown",
      "source": [
        "African Male accent"
      ],
      "metadata": {
        "id": "HUonLMVfjcW3"
      }
    },
    {
      "cell_type": "code",
      "source": [
        "f_male_non_native = ['afrikaans4.mp3']\n",
        "X_male_non_native = prepare_data(f_female_non_native, config, data_path)"
      ],
      "metadata": {
        "execution": {
          "iopub.status.busy": "2022-04-12T17:18:41.106399Z",
          "iopub.execute_input": "2022-04-12T17:18:41.107368Z",
          "iopub.status.idle": "2022-04-12T17:18:41.879236Z",
          "shell.execute_reply.started": "2022-04-12T17:18:41.10731Z",
          "shell.execute_reply": "2022-04-12T17:18:41.878148Z"
        },
        "trusted": true,
        "id": "j5-XyeiwjcW4"
      },
      "execution_count": null,
      "outputs": []
    },
    {
      "cell_type": "code",
      "source": [
        "a=encoder.transform(['male'])\n",
        "y_male_non_native_gender = to_categorical(np.array(a),  num_classes=2)\n",
        "print(y_male_non_native_gender)"
      ],
      "metadata": {
        "execution": {
          "iopub.status.busy": "2022-04-12T17:18:43.947898Z",
          "iopub.execute_input": "2022-04-12T17:18:43.948232Z",
          "iopub.status.idle": "2022-04-12T17:18:43.956372Z",
          "shell.execute_reply.started": "2022-04-12T17:18:43.948196Z",
          "shell.execute_reply": "2022-04-12T17:18:43.955511Z"
        },
        "trusted": true,
        "id": "Iqu6VKlMjcW4"
      },
      "execution_count": null,
      "outputs": []
    },
    {
      "cell_type": "code",
      "source": [
        "a=encoder1.transform(['non-native'])\n",
        "y_male_non_native_accent = to_categorical(np.array(a),  num_classes=2)\n",
        "print(y_male_non_native_accent)"
      ],
      "metadata": {
        "execution": {
          "iopub.status.busy": "2022-04-12T17:18:44.736698Z",
          "iopub.execute_input": "2022-04-12T17:18:44.737958Z",
          "iopub.status.idle": "2022-04-12T17:18:44.743639Z",
          "shell.execute_reply.started": "2022-04-12T17:18:44.737902Z",
          "shell.execute_reply": "2022-04-12T17:18:44.742806Z"
        },
        "trusted": true,
        "id": "3KXmbKJMjcW6"
      },
      "execution_count": null,
      "outputs": []
    },
    {
      "cell_type": "code",
      "source": [
        "from keras.models import load_model\n",
        "cnn_multi_model = load_model('/kaggle/working/saved_models/multitask_classification_cnn.h5')\n",
        "pred = cnn_multi_model.predict(X_male_non_native)"
      ],
      "metadata": {
        "execution": {
          "iopub.status.busy": "2022-04-12T17:18:53.236483Z",
          "iopub.execute_input": "2022-04-12T17:18:53.237136Z",
          "iopub.status.idle": "2022-04-12T17:18:53.775682Z",
          "shell.execute_reply.started": "2022-04-12T17:18:53.237075Z",
          "shell.execute_reply": "2022-04-12T17:18:53.774429Z"
        },
        "trusted": true,
        "id": "Z1-hcGfKjcW8"
      },
      "execution_count": null,
      "outputs": []
    },
    {
      "cell_type": "code",
      "source": [
        "print(\"X=%s, Accent Predicted=%s\" % (pred[0], y_male_non_native_accent[0]))\n",
        "print(\"X=%s, Gender Predicted=%s\" % (pred[1], y_male_non_native_gender[0]))"
      ],
      "metadata": {
        "execution": {
          "iopub.status.busy": "2022-04-12T17:18:53.818168Z",
          "iopub.execute_input": "2022-04-12T17:18:53.818614Z",
          "iopub.status.idle": "2022-04-12T17:18:53.825113Z",
          "shell.execute_reply.started": "2022-04-12T17:18:53.818579Z",
          "shell.execute_reply": "2022-04-12T17:18:53.824403Z"
        },
        "trusted": true,
        "id": "2TlLtuOMjcW9"
      },
      "execution_count": null,
      "outputs": []
    },
    {
      "cell_type": "code",
      "source": [
        "pred1 = crnn_multi_model.predict(X_male_non_native)\n",
        "print(\"X=%s, Accent Predicted=%s\" % (pred1[0], y_male_non_native_accent[0]))\n",
        "print(\"X=%s, Gender Predicted=%s\" % (pred1[1], y_male_non_native_gender[0]))"
      ],
      "metadata": {
        "execution": {
          "iopub.status.busy": "2022-04-12T17:56:41.400611Z",
          "iopub.execute_input": "2022-04-12T17:56:41.401257Z",
          "iopub.status.idle": "2022-04-12T17:56:41.536181Z",
          "shell.execute_reply.started": "2022-04-12T17:56:41.401209Z",
          "shell.execute_reply": "2022-04-12T17:56:41.534927Z"
        },
        "trusted": true,
        "id": "kVe5DBdkjcW_"
      },
      "execution_count": null,
      "outputs": []
    },
    {
      "cell_type": "markdown",
      "source": [
        "English Male"
      ],
      "metadata": {
        "id": "KaSAU-CljcW_"
      }
    },
    {
      "cell_type": "code",
      "source": [
        "file = '../input/common-voice-samples/English-male.mp3'"
      ],
      "metadata": {
        "execution": {
          "iopub.status.busy": "2022-04-12T16:35:15.41858Z",
          "iopub.execute_input": "2022-04-12T16:35:15.418915Z",
          "iopub.status.idle": "2022-04-12T16:35:15.42379Z",
          "shell.execute_reply.started": "2022-04-12T16:35:15.418868Z",
          "shell.execute_reply": "2022-04-12T16:35:15.422716Z"
        },
        "trusted": true,
        "id": "iNcz3mfcjcXA"
      },
      "execution_count": null,
      "outputs": []
    },
    {
      "cell_type": "code",
      "source": [
        "X_male_native = prepare_data(['English-male.mp3'], config, '/kaggle/input/common-voice-samples')"
      ],
      "metadata": {
        "execution": {
          "iopub.status.busy": "2022-04-12T17:20:11.58461Z",
          "iopub.execute_input": "2022-04-12T17:20:11.584995Z",
          "iopub.status.idle": "2022-04-12T17:20:12.27082Z",
          "shell.execute_reply.started": "2022-04-12T17:20:11.584957Z",
          "shell.execute_reply": "2022-04-12T17:20:12.269411Z"
        },
        "trusted": true,
        "id": "7XIdAo1tjcXA"
      },
      "execution_count": null,
      "outputs": []
    },
    {
      "cell_type": "code",
      "source": [
        "a=encoder.transform(['male'])\n",
        "y_male_native_gender = to_categorical(np.array(a),  num_classes=2)\n",
        "print(y_male_native_gender)"
      ],
      "metadata": {
        "execution": {
          "iopub.status.busy": "2022-04-12T17:20:12.790863Z",
          "iopub.execute_input": "2022-04-12T17:20:12.792103Z",
          "iopub.status.idle": "2022-04-12T17:20:12.801546Z",
          "shell.execute_reply.started": "2022-04-12T17:20:12.792034Z",
          "shell.execute_reply": "2022-04-12T17:20:12.800182Z"
        },
        "trusted": true,
        "id": "Vaso_o4GjcXB"
      },
      "execution_count": null,
      "outputs": []
    },
    {
      "cell_type": "code",
      "source": [
        "a=encoder1.transform(['native'])\n",
        "y_male_native_accent = to_categorical(np.array(a),  num_classes=2)\n",
        "print(y_male_native_accent)"
      ],
      "metadata": {
        "execution": {
          "iopub.status.busy": "2022-04-12T17:20:15.080106Z",
          "iopub.execute_input": "2022-04-12T17:20:15.080695Z",
          "iopub.status.idle": "2022-04-12T17:20:15.090495Z",
          "shell.execute_reply.started": "2022-04-12T17:20:15.080643Z",
          "shell.execute_reply": "2022-04-12T17:20:15.089093Z"
        },
        "trusted": true,
        "id": "QkGwW3rGjcXB"
      },
      "execution_count": null,
      "outputs": []
    },
    {
      "cell_type": "code",
      "source": [
        "pred1 = crnn_multi_model.predict(X_male_native)\n",
        "print(\"X=%s, Accent Predicted=%s\" % (pred1[0], y_male_native_accent[0]))\n",
        "print(\"X=%s, Gender Predicted=%s\" % (pred1[1], y_male_native_gender[0]))"
      ],
      "metadata": {
        "execution": {
          "iopub.status.busy": "2022-04-12T17:20:15.689382Z",
          "iopub.execute_input": "2022-04-12T17:20:15.690448Z",
          "iopub.status.idle": "2022-04-12T17:20:15.828111Z",
          "shell.execute_reply.started": "2022-04-12T17:20:15.69038Z",
          "shell.execute_reply": "2022-04-12T17:20:15.827062Z"
        },
        "trusted": true,
        "id": "CRLgaIBpjcXC"
      },
      "execution_count": null,
      "outputs": []
    },
    {
      "cell_type": "code",
      "source": [
        "pred1 = cnn_multi_model.predict(X_male_native)\n",
        "print(\"X=%s, Accent Predicted=%s\" % (pred1[0], y_male_native_accent[0]))\n",
        "print(\"X=%s, Gender Predicted=%s\" % (pred1[1], y_male_native_gender[0]))"
      ],
      "metadata": {
        "execution": {
          "iopub.status.busy": "2022-04-12T16:40:36.229324Z",
          "iopub.execute_input": "2022-04-12T16:40:36.229687Z",
          "iopub.status.idle": "2022-04-12T16:40:36.30746Z",
          "shell.execute_reply.started": "2022-04-12T16:40:36.229648Z",
          "shell.execute_reply": "2022-04-12T16:40:36.306493Z"
        },
        "trusted": true,
        "id": "cVd2a-njjcXC"
      },
      "execution_count": null,
      "outputs": []
    },
    {
      "cell_type": "code",
      "source": [],
      "metadata": {
        "id": "pZaKEwHrjcXD"
      },
      "execution_count": null,
      "outputs": []
    },
    {
      "cell_type": "markdown",
      "source": [
        "US female"
      ],
      "metadata": {
        "id": "P_nOkDU0jcXD"
      }
    },
    {
      "cell_type": "code",
      "source": [
        "filename = 'kaggle/input/common-voice/cv-other-test/cv-other-test/sample-001204.mp3'"
      ],
      "metadata": {
        "id": "UfhlhcXYjcXD"
      },
      "execution_count": null,
      "outputs": []
    },
    {
      "cell_type": "code",
      "source": [
        "X_female_native = prepare_data(['sample-001204.mp3'], config, '/kaggle/input/common-voice/cv-other-dev/cv-other-dev')"
      ],
      "metadata": {
        "execution": {
          "iopub.status.busy": "2022-04-12T16:49:47.700429Z",
          "iopub.execute_input": "2022-04-12T16:49:47.701288Z",
          "iopub.status.idle": "2022-04-12T16:49:48.243294Z",
          "shell.execute_reply.started": "2022-04-12T16:49:47.701244Z",
          "shell.execute_reply": "2022-04-12T16:49:48.24222Z"
        },
        "trusted": true,
        "id": "7Mte_HmnjcXE"
      },
      "execution_count": null,
      "outputs": []
    },
    {
      "cell_type": "code",
      "source": [
        "a=encoder.transform(['female'])\n",
        "y_female_native_gender = to_categorical(np.array(a),  num_classes=2)\n",
        "print(y_female_native_gender)\n",
        "a=encoder1.transform(['native'])\n",
        "y_female_native_accent = to_categorical(np.array(a),  num_classes=2)\n",
        "print(y_female_native_accent)"
      ],
      "metadata": {
        "execution": {
          "iopub.status.busy": "2022-04-12T16:49:48.976079Z",
          "iopub.execute_input": "2022-04-12T16:49:48.97679Z",
          "iopub.status.idle": "2022-04-12T16:49:48.985263Z",
          "shell.execute_reply.started": "2022-04-12T16:49:48.976742Z",
          "shell.execute_reply": "2022-04-12T16:49:48.984173Z"
        },
        "trusted": true,
        "id": "F8ntua3KjcXE"
      },
      "execution_count": null,
      "outputs": []
    },
    {
      "cell_type": "code",
      "source": [
        "pred1 = crnn_multi_model.predict(X_female_native)\n",
        "print(\"X=%s, Accent Predicted=%s\" % (pred1[0], y_male_native_accent[0]))\n",
        "print(\"X=%s, Gender Predicted=%s\" % (pred1[1], y_male_native_gender[0]))\n",
        "\n",
        "pred1 = cnn_multi_model.predict(X_female_native)\n",
        "print(\"X=%s, Accent Predicted=%s\" % (pred1[0], y_male_native_accent[0]))\n",
        "print(\"X=%s, Gender Predicted=%s\" % (pred1[1], y_male_native_gender[0]))"
      ],
      "metadata": {
        "execution": {
          "iopub.status.busy": "2022-04-12T17:24:34.116706Z",
          "iopub.execute_input": "2022-04-12T17:24:34.117466Z",
          "iopub.status.idle": "2022-04-12T17:24:34.306933Z",
          "shell.execute_reply.started": "2022-04-12T17:24:34.117409Z",
          "shell.execute_reply": "2022-04-12T17:24:34.305696Z"
        },
        "trusted": true,
        "id": "kha3rp_GjcXE"
      },
      "execution_count": null,
      "outputs": []
    },
    {
      "cell_type": "code",
      "source": [
        "from keras.models import load_model\n",
        "cnn_accent_model = load_model('/kaggle/working/saved_models/accent_classification_cnn.h5')\n",
        "cnn_gender_model = load_model('/kaggle/working/saved_models/gender_classification_cnn.h5')\n",
        "ffn_multi_model = load_model('/kaggle/working/saved_models/audio_classification_ffn.hdf5')\n",
        "pred1 = cnn_accent_model.predict(X_female_native)\n",
        "print(\"Accent Predicted=%s, X=%s\" % (pred1[0], y_female_native_accent[0]))\n",
        "pred1 = cnn_accent_model.predict(X_male_native)\n",
        "print(\"Accent Predicted=%s, X=%s\" % (pred1[0], y_male_native_accent[0]))\n",
        "pred1 = cnn_accent_model.predict(X_male_non_native)\n",
        "print(\"Accent Predicted=%s, X=%s\" % (pred1[0], y_male_non_native_accent[0]))\n",
        "pred1 = ffn_multi_model.predict(X_female_non_native)\n",
        "print(\"Accent Predicted=%s, X=%s\" % (pred1[0], y_female_non_native_accent[0]))\n",
        "pred1 = cnn_gender_model.predict(X_female_native)\n",
        "print(\"Accent Predicted=%s, X=%s\" % (pred1[0], y_female_native_gender[0]))"
      ],
      "metadata": {
        "execution": {
          "iopub.status.busy": "2022-04-12T18:45:37.429268Z",
          "iopub.execute_input": "2022-04-12T18:45:37.429823Z",
          "iopub.status.idle": "2022-04-12T18:45:40.165811Z",
          "shell.execute_reply.started": "2022-04-12T18:45:37.429785Z",
          "shell.execute_reply": "2022-04-12T18:45:40.164066Z"
        },
        "trusted": true,
        "id": "U2Pq4PkYjcXF"
      },
      "execution_count": null,
      "outputs": []
    },
    {
      "cell_type": "code",
      "source": [
        "from keras.models import load_model\n",
        "crnn_accent_model = load_model('/kaggle/working/saved_models/accent_crnn_classification.h5')\n",
        "crnn_gender_model = load_model('/kaggle/working/saved_models/gender_crnn_classification.h5')\n",
        "pred1 = crnn_accent_model.predict(X_female_native)\n",
        "print(\"X=%s, Accent Predicted=%s\" % (pred1[0], y_female_native_accent[0]))\n",
        "pred1 = crnn_gender_model.predict(X_female_native)\n",
        "print(\"X=%s, Gender Predicted=%s\" % (pred1[0], y_female_native_gender[0]))"
      ],
      "metadata": {
        "execution": {
          "iopub.status.busy": "2022-04-12T17:46:23.687394Z",
          "iopub.execute_input": "2022-04-12T17:46:23.688521Z",
          "iopub.status.idle": "2022-04-12T17:46:27.311296Z",
          "shell.execute_reply.started": "2022-04-12T17:46:23.68846Z",
          "shell.execute_reply": "2022-04-12T17:46:27.310299Z"
        },
        "trusted": true,
        "id": "udBjIAxbjcXF"
      },
      "execution_count": null,
      "outputs": []
    },
    {
      "cell_type": "code",
      "source": [
        "ffn_multi_model = load_model('/kaggle/working/saved_models/audio_classification_ffn.hdf5')\n",
        "# Female, Native\n",
        "pred1 = ffn_multi_model.predict(X_female_native)\n",
        "print(\"X=%s, Accent Predicted=%s\" % (pred1[0], y_female_native_accent[0]))\n",
        "print(\"X=%s, Gender Predicted=%s\" % (pred1[1], y_female_native_gender[0]))\n",
        "# Male, Native\n",
        "pred1 = ffn_multi_model.predict(X_male_native)\n",
        "print(\"X=%s, Accent Predicted=%s\" % (pred1[0], y_male_native_accent[0]))\n",
        "print(\"X=%s, Gender Predicted=%s\" % (pred1[1], y_male_native_gender[0]))\n",
        "# Male, Non-native\n",
        "pred1 = ffn_multi_model.predict(X_male_non_native)\n",
        "print(\"X=%s, Accent Predicted=%s\" % (pred1[0], y_male_non_native_accent[0]))\n",
        "print(\"X=%s, Gender Predicted=%s\" % (pred1[1], y_male_non_native_gender[0]))\n",
        "\n",
        "# Female, Non-native\n",
        "pred1 = ffn_multi_model.predict(X_female_non_native)\n",
        "print(\"X=%s, Accent Predicted=%s\" % (pred1[0], y_female_non_native_accent[0]))\n",
        "print(\"X=%s, Gender Predicted=%s\" % (pred1[1], y_female_non_native_gender[0]))"
      ],
      "metadata": {
        "execution": {
          "iopub.status.busy": "2022-04-12T18:59:04.527851Z",
          "iopub.execute_input": "2022-04-12T18:59:04.528184Z",
          "iopub.status.idle": "2022-04-12T18:59:05.113409Z",
          "shell.execute_reply.started": "2022-04-12T18:59:04.528151Z",
          "shell.execute_reply": "2022-04-12T18:59:05.112251Z"
        },
        "trusted": true,
        "id": "UaggGVuzjcXG"
      },
      "execution_count": null,
      "outputs": []
    },
    {
      "cell_type": "markdown",
      "source": [
        "# Multifeature: MFCC + Chroma"
      ],
      "metadata": {
        "id": "C2WBeGbJjcXH"
      }
    },
    {
      "cell_type": "code",
      "source": [
        "def prepare_data_multiple(fnames, config, data_dir):\n",
        "    X_mfcc = np.empty(shape=(len(fnames), config.dim[0], config.dim[1], 1))\n",
        "    X_chroma = np.empty(shape=(len(fnames), 12, config.dim[1], 1))\n",
        "    print(X_chroma.shape)\n",
        "    input_length = config.audio_length\n",
        "    for i, fname in tqdm_notebook(enumerate(fnames), total=len(fnames)):\n",
        "        file_path = os.path.join(data_dir, fname)\n",
        "        data, _ = librosa.core.load(file_path, sr=config.sampling_rate, res_type=\"kaiser_fast\")\n",
        "\n",
        "        # Random offset / Padding\n",
        "        if len(data) > input_length:\n",
        "            max_offset = len(data) - input_length\n",
        "            offset = np.random.randint(max_offset)\n",
        "            data = data[offset:(input_length+offset)]\n",
        "        else:\n",
        "            if input_length > len(data):\n",
        "                max_offset = input_length - len(data)\n",
        "                offset = np.random.randint(max_offset)\n",
        "            else:\n",
        "                offset = 0\n",
        "            data = np.pad(data, (offset, input_length - len(data) - offset), \"constant\")\n",
        "\n",
        "        data_mfcc = librosa.feature.mfcc(data, sr=config.sampling_rate, n_mfcc=config.n_mfcc)\n",
        "        data_mfcc = np.expand_dims(data_mfcc, axis=-1)\n",
        "        X_mfcc[i,] = data_mfcc\n",
        "        data = librosa.feature.chroma_cqt(data, sr=config.sampling_rate)\n",
        "#         print(data.shape)\n",
        "        data = np.expand_dims(data, axis=-1)\n",
        "        X_chroma[i,] = data\n",
        "    return X_mfcc, X_chroma"
      ],
      "metadata": {
        "execution": {
          "iopub.status.busy": "2022-04-11T21:32:23.093121Z",
          "iopub.execute_input": "2022-04-11T21:32:23.093469Z",
          "iopub.status.idle": "2022-04-11T21:32:23.104146Z",
          "shell.execute_reply.started": "2022-04-11T21:32:23.09343Z",
          "shell.execute_reply": "2022-04-11T21:32:23.103455Z"
        },
        "trusted": true,
        "id": "cKyhwg0UjcXH"
      },
      "execution_count": null,
      "outputs": []
    },
    {
      "cell_type": "code",
      "source": [
        "X_fnames = np.array(dg['filename'])\n",
        "data_path = 'recordings/'\n",
        "\n",
        "config = Config(sampling_rate=22050, audio_duration=20, learning_rate=0.0001, n_mfcc=12, n_classes=2)\n",
        "feature_file_path = OUTPUT_DIR+'mfcc_features.npy'\n",
        "\n",
        "X_mfcc, X_chroma = prepare_data_multiple(X_fnames, config, data_path)"
      ],
      "metadata": {
        "execution": {
          "iopub.status.busy": "2022-04-11T21:32:23.896123Z",
          "iopub.execute_input": "2022-04-11T21:32:23.89674Z",
          "iopub.status.idle": "2022-04-11T21:57:06.308723Z",
          "shell.execute_reply.started": "2022-04-11T21:32:23.8967Z",
          "shell.execute_reply": "2022-04-11T21:57:06.307303Z"
        },
        "trusted": true,
        "id": "gv8FBXwWjcXI"
      },
      "execution_count": null,
      "outputs": []
    },
    {
      "cell_type": "code",
      "source": [
        "from sklearn.model_selection import train_test_split\n",
        "X_train_mfcc, X_test_mfcc, y_gender_train, y_gender_test, y_accent_train, y_accent_test = train_test_split(X_mfcc, y_gender, y_accent, test_size=0.2, random_state=10)\n",
        "print ('Train set:', X_train_mfcc.shape,  y_gender_train.shape)\n",
        "print ('Test set:', X_test_mfcc.shape,  y_gender_test.shape)\n",
        "X_train_chroma, X_test_chroma, _, _, _, _ = train_test_split(X_chroma, y_gender, y_accent, test_size=0.2, random_state=10)\n",
        "\n",
        "X_train_mfcc, X_val_mfcc, _, _, _, _ = train_test_split(X_train_mfcc, y_gender_train, y_accent_train, test_size=0.15, random_state=10)\n",
        "X_train_chroma, X_val_chroma, y_gender_train, y_gender_val, y_accent_train, y_accent_val = train_test_split(X_train_chroma, y_gender_train, y_accent_train, test_size=0.15, random_state=10)\n",
        "\n",
        "mean = np.mean(X_train_mfcc, axis=0)\n",
        "std = np.std(X_train_mfcc, axis=0)\n",
        "\n",
        "X_train_mfcc = (X_train_mfcc - mean)/std\n",
        "X_val_mfcc = (X_val_mfcc - mean)/std\n",
        "X_test_mfcc = (X_test_mfcc - mean)/std\n",
        "\n",
        "mean = np.mean(X_train_chroma, axis=0)\n",
        "std = np.std(X_train_chroma, axis=0)\n",
        "\n",
        "X_train_chroma = (X_train_chroma - mean)/std\n",
        "X_val_chroma= (X_val_chroma - mean)/std\n",
        "X_test_chroma = (X_test_chroma - mean)/std"
      ],
      "metadata": {
        "execution": {
          "iopub.status.busy": "2022-04-11T21:57:06.316775Z",
          "iopub.execute_input": "2022-04-11T21:57:06.320641Z",
          "iopub.status.idle": "2022-04-11T21:57:06.793325Z",
          "shell.execute_reply.started": "2022-04-11T21:57:06.320581Z",
          "shell.execute_reply": "2022-04-11T21:57:06.792639Z"
        },
        "trusted": true,
        "id": "VsoCTiD3jcXI"
      },
      "execution_count": null,
      "outputs": []
    },
    {
      "cell_type": "code",
      "source": [
        "X_train_chroma.shape"
      ],
      "metadata": {
        "execution": {
          "iopub.status.busy": "2022-04-11T21:57:06.794292Z",
          "iopub.execute_input": "2022-04-11T21:57:06.794547Z",
          "iopub.status.idle": "2022-04-11T21:57:06.800765Z",
          "shell.execute_reply.started": "2022-04-11T21:57:06.79452Z",
          "shell.execute_reply": "2022-04-11T21:57:06.799938Z"
        },
        "trusted": true,
        "id": "SJE01BJ6jcXJ"
      },
      "execution_count": null,
      "outputs": []
    },
    {
      "cell_type": "code",
      "source": [
        "X_train_mfcc.shape"
      ],
      "metadata": {
        "execution": {
          "iopub.status.busy": "2022-04-11T21:57:06.8025Z",
          "iopub.execute_input": "2022-04-11T21:57:06.802748Z",
          "iopub.status.idle": "2022-04-11T21:57:06.812085Z",
          "shell.execute_reply.started": "2022-04-11T21:57:06.80272Z",
          "shell.execute_reply": "2022-04-11T21:57:06.811299Z"
        },
        "trusted": true,
        "id": "I_TVCSn6jcXJ"
      },
      "execution_count": null,
      "outputs": []
    },
    {
      "cell_type": "code",
      "source": [
        "def create_CRNN_multi_model(input_shape, is_training=True):\n",
        "\n",
        "#     model = Sequential()\n",
        "\n",
        "#     model.add(Conv2D(64, 3, activation=\"relu\",padding='same', input_shape=input_shape))\n",
        "#     model.add(BatchNormalization())\n",
        "#     model.add(MaxPooling2D(pool_size=(2, 2)))\n",
        "\n",
        "#     model.add(Conv2D(128, 3, activation=\"relu\",padding='same'))\n",
        "#     model.add(BatchNormalization())\n",
        "#     model.add(MaxPooling2D(pool_size=(2, 2)))\n",
        "\n",
        "#     model.add(Conv2D(128, 3, activation=\"relu\",padding='same'))\n",
        "#     model.add(BatchNormalization())\n",
        "#     model.add(MaxPooling2D(pool_size=(2, 2)))\n",
        "\n",
        "#     model.add(Conv2D(256, 3, activation=\"relu\",padding='same'))\n",
        "#     model.add(BatchNormalization())\n",
        "#     model.add(MaxPooling2D(pool_size=(2, 2)))\n",
        "\n",
        "#     model.add(Conv2D(512, 3, 3, W_regularizer=l2(weight_decay), activation=\"relu\"))\n",
        "#     model.add(BatchNormalization())\n",
        "    # model.add(MaxPooling2D(pool_size=(2, 2), strides=(2, 2)))\n",
        "\n",
        "#     model.add(Convolution2D(512, 3, 3, W_regularizer=l2(weight_decay), activation=\"relu\"))\n",
        "#     model.add(BatchNormalization())\n",
        "#     model.add(MaxPooling2D(pool_size=(2, 2), strides=(2, 2)))\n",
        "\n",
        "#     model.add(Conv2D(512, 3, 3, W_regularizer=l2(weight_decay), activation=\"relu\"))\n",
        "#     model.add(BatchNormalization())\n",
        "#     model.add(MaxPooling2D(pool_size=(2, 2), strides=(2, 2)))\n",
        "\n",
        "\n",
        "    input_layer_mfcc = Input(shape=(12, 862,1), name='Input')\n",
        "    input_layer_chroma = Input(shape=(12, 862,1), name='Input2')\n",
        "\n",
        "    # conv 1\n",
        "    conv_mfcc = Conv2D(32, 3, padding='same', activation='relu')(input_layer_mfcc)\n",
        "    batchnorm_mfcc = BatchNormalization()(conv_mfcc)\n",
        "    maxpool_mfcc = MaxPooling2D(pool_size=(2, 2))(batchnorm_mfcc)\n",
        "    # conv 2\n",
        "    conv1_mfcc = Conv2D(32, 3, padding='same', activation='relu')(maxpool_mfcc)\n",
        "    batchnorm2_mfcc = BatchNormalization()(conv1_mfcc)\n",
        "    maxpool1_mfcc = MaxPooling2D(pool_size=(2, 2))(batchnorm2_mfcc)\n",
        "\n",
        "    # conv 3\n",
        "    conv2_mfcc = Conv2D(32, 3, padding='same', activation='relu')(maxpool1_mfcc)\n",
        "    batchnorm4_mfcc = BatchNormalization()(conv2_mfcc)\n",
        "    maxpool2_mfcc = MaxPooling2D(pool_size=(2, 2))(batchnorm4_mfcc)\n",
        "\n",
        "    # conv 1\n",
        "    conv_chroma = Conv2D(32, 3, padding='same', activation='relu')(input_layer_chroma)\n",
        "    batchnorm_chroma = BatchNormalization()(conv_chroma)\n",
        "    maxpool_chroma = MaxPooling2D(pool_size=(2, 2))(batchnorm_chroma)\n",
        "    # conv 2\n",
        "    conv1_chroma = Conv2D(32, 3, padding='same', activation='relu')(maxpool_chroma)\n",
        "    batchnorm2_chroma = BatchNormalization()(conv1_chroma)\n",
        "    maxpool1_chroma = MaxPooling2D(pool_size=(2, 2))(batchnorm2_chroma)\n",
        "\n",
        "    # conv 3\n",
        "    conv2_chroma = Conv2D(32, 3, padding='same', activation='relu')(maxpool1_chroma)\n",
        "    batchnorm4_chroma = BatchNormalization()(conv2_chroma)\n",
        "    maxpool2_chroma = MaxPooling2D(pool_size=(2, 2))(batchnorm4_chroma)\n",
        "\n",
        "\n",
        "\n",
        "    concat = Concatenate()([maxpool2_mfcc, maxpool2_chroma])\n",
        "#     concat = Concatenate()([batchnorm5_mfcc, batchnorm5_chroma])\n",
        "\n",
        "    permute = Permute((2, 1, 3))(concat)\n",
        "    reshaped = Reshape((107, 64))(permute)\n",
        "\n",
        "    lstm = Bidirectional(LSTM(256, return_sequences=False))(reshaped)\n",
        "\n",
        "    out_accent = Dense(2, activation='sigmoid',name='output_accent')(lstm)\n",
        "    out_gender = Dense(2, activation='sigmoid',name='output_gender')(lstm)\n",
        "\n",
        "    # (bs, y, x, c) --> (bs, x, y, c)\n",
        "#     model.add(Permute((2, 1, 3)))\n",
        "\n",
        "#     # (bs, x, y, c) --> (bs, x, y * c)\n",
        "#     bs, x, y, c = model.layers[-1].output_shape\n",
        "#     model.add(Reshape((x, y*c)))\n",
        "\n",
        "#     model.add(Bidirectional(LSTM(256, return_sequences=False), merge_mode=\"concat\"))\n",
        "#     model.add([Dense(2, activation=\"sigmoid\", name='output_accent'),Dense(2, activation=\"sigmoid\", name='output_gender')])\n",
        "    model = Model(inputs = [input_layer_mfcc, input_layer_chroma] ,outputs=[out_accent, out_gender])\n",
        "\n",
        "    return model"
      ],
      "metadata": {
        "execution": {
          "iopub.status.busy": "2022-04-11T23:49:17.995031Z",
          "iopub.execute_input": "2022-04-11T23:49:17.995299Z",
          "iopub.status.idle": "2022-04-11T23:49:18.011172Z",
          "shell.execute_reply.started": "2022-04-11T23:49:17.995268Z",
          "shell.execute_reply": "2022-04-11T23:49:18.010458Z"
        },
        "trusted": true,
        "id": "5fI8ueF2jcXK"
      },
      "execution_count": null,
      "outputs": []
    },
    {
      "cell_type": "code",
      "source": [
        "multitask_crnn_2 = create_CRNN_multi_model((12,862,1))"
      ],
      "metadata": {
        "execution": {
          "iopub.status.busy": "2022-04-11T23:49:21.054549Z",
          "iopub.execute_input": "2022-04-11T23:49:21.054847Z",
          "iopub.status.idle": "2022-04-11T23:49:21.812523Z",
          "shell.execute_reply.started": "2022-04-11T23:49:21.054816Z",
          "shell.execute_reply": "2022-04-11T23:49:21.811496Z"
        },
        "trusted": true,
        "id": "dmZGiTGQjcXL"
      },
      "execution_count": null,
      "outputs": []
    },
    {
      "cell_type": "code",
      "source": [
        "multitask_crnn_2.summary()"
      ],
      "metadata": {
        "execution": {
          "iopub.status.busy": "2022-04-11T23:49:28.668346Z",
          "iopub.execute_input": "2022-04-11T23:49:28.668879Z",
          "iopub.status.idle": "2022-04-11T23:49:28.68888Z",
          "shell.execute_reply.started": "2022-04-11T23:49:28.668846Z",
          "shell.execute_reply": "2022-04-11T23:49:28.687908Z"
        },
        "trusted": true,
        "id": "vMGFpZaIjcXL"
      },
      "execution_count": null,
      "outputs": []
    },
    {
      "cell_type": "code",
      "source": [
        "multitask_crnn_2.compile(optimizer='Adam',loss={'output_accent':'binary_crossentropy','output_gender': 'binary_crossentropy'}, metrics ={'output_accent': 'accuracy', 'output_gender': 'accuracy'})"
      ],
      "metadata": {
        "execution": {
          "iopub.status.busy": "2022-04-11T22:26:36.244919Z",
          "iopub.execute_input": "2022-04-11T22:26:36.245686Z",
          "iopub.status.idle": "2022-04-11T22:26:36.256588Z",
          "shell.execute_reply.started": "2022-04-11T22:26:36.245636Z",
          "shell.execute_reply": "2022-04-11T22:26:36.255623Z"
        },
        "trusted": true,
        "id": "OoYcxmbTjcXM"
      },
      "execution_count": null,
      "outputs": []
    },
    {
      "cell_type": "code",
      "source": [
        "## Training my model\n",
        "from tensorflow.keras.callbacks import ModelCheckpoint\n",
        "from datetime import datetime\n",
        "\n",
        "num_epochs = 35\n",
        "num_batch_size = 32\n",
        "\n",
        "checkpointer = ModelCheckpoint(filepath=OUTPUT_DIR + 'saved_models/multitask_multiinput_classification_crnn.h5',\n",
        "                               verbose=1, save_best_only=True,patience=10, monitor='val_loss', mode='min')\n",
        "early_stopping = EarlyStopping(monitor=\"val_loss\", mode=\"min\", patience=5)\n",
        "\n",
        "start = datetime.now()\n",
        "\n",
        "history_multitask_crnn2 = multitask_crnn_2.fit({\"Input\": X_train_mfcc, \"Input2\": X_train_chroma}, {\"output_accent\": y_accent_train, \"output_gender\": y_gender_train},validation_data=({\"Input\": X_val_mfcc, \"Input2\": X_val_chroma},{\"output_accent\": y_accent_val, \"output_gender\": y_gender_val}),\n",
        "                        batch_size=num_batch_size, epochs=num_epochs, callbacks=[checkpointer, early_stopping], verbose=1)\n",
        "\n",
        "\n",
        "duration = datetime.now() - start\n",
        "print(\"Training completed in time: \", duration)"
      ],
      "metadata": {
        "execution": {
          "iopub.status.busy": "2022-04-11T22:26:37.280549Z",
          "iopub.execute_input": "2022-04-11T22:26:37.280901Z",
          "iopub.status.idle": "2022-04-11T22:28:11.468987Z",
          "shell.execute_reply.started": "2022-04-11T22:26:37.28086Z",
          "shell.execute_reply": "2022-04-11T22:28:11.468432Z"
        },
        "trusted": true,
        "id": "Xqi7pv_ojcXM"
      },
      "execution_count": null,
      "outputs": []
    },
    {
      "cell_type": "code",
      "source": [
        "from keras.models import load_model\n",
        "crnn_multi_model = load_model('/kaggle/working/saved_models/multitask_multiinput_classification_crnn.h5')\n",
        "results_multitask_crnn = crnn_multi_model.evaluate({\"Input\": X_test_mfcc, \"Input2\": X_test_chroma}, {\"output_accent\": y_accent_test, \"output_gender\": y_gender_test})\n",
        "print(results_multitask_crnn)"
      ],
      "metadata": {
        "execution": {
          "iopub.status.busy": "2022-04-11T22:28:15.037077Z",
          "iopub.execute_input": "2022-04-11T22:28:15.037875Z",
          "iopub.status.idle": "2022-04-11T22:28:17.961084Z",
          "shell.execute_reply.started": "2022-04-11T22:28:15.037824Z",
          "shell.execute_reply": "2022-04-11T22:28:17.960262Z"
        },
        "trusted": true,
        "id": "XlSU-lYyjcXN"
      },
      "execution_count": null,
      "outputs": []
    },
    {
      "cell_type": "markdown",
      "source": [
        "FFFN"
      ],
      "metadata": {
        "id": "uukAOZyojcXN"
      }
    },
    {
      "cell_type": "code",
      "source": [
        "def ffn_multiinputs():\n",
        "#     input_layer_mfcc = Input(shape=(12, 862), name='Input')\n",
        "#     input_layer_chroma = Input(shape=(12, 862), name='Input2')\n",
        "#     concat = Concatenate()([input_layer_mfcc, input_layer_chroma])\n",
        "\n",
        "#     dense1=Dense(128, activation='relu',name='Hidden_1')(concat)\n",
        "#     dropout1 = Dropout(0.5)(dense1)\n",
        "\n",
        "#     dense2=Dense(256, activation='relu',name='Hidden_2')(dropout1)\n",
        "#     dropout2 = Dropout(0.5)(dense2)\n",
        "\n",
        "#     dense3=Dense(128, activation='relu',name='Hidden_3')(dropout2)\n",
        "#     dropout3 = Dropout(0.5)(dense3)\n",
        "#     m = tf.keras.layers.Flatten()(dropout3)\n",
        "\n",
        "#     out_accent = Dense(2, activation='sigmoid',name='output_accent')(m)\n",
        "#     out_gender = Dense(2, activation='sigmoid',name='output_gender')(m)\n",
        "\n",
        "\n",
        "#     model_ffn = Model(inputs = [input_layer_mfcc,input_layer_chroma] ,outputs=[out_accent, out_gender])\n",
        "#     return model_ffn\n",
        "    input_layer_mfcc = Input(shape=(12, 862), name='Input')\n",
        "    input_layer_chroma = Input(shape=(12, 862), name='Input2')\n",
        "\n",
        "\n",
        "    dense1=Dense(128, activation='relu',name='Hidden_1')(input_layer_mfcc)\n",
        "    dropout1 = Dropout(0.5)(dense1)\n",
        "\n",
        "    dense2=Dense(256, activation='relu',name='Hidden_2')(dropout1)\n",
        "    dropout2 = Dropout(0.5)(dense2)\n",
        "\n",
        "    dense3=Dense(128, activation='relu',name='Hidden_3')(dropout2)\n",
        "    dropout3 = Dropout(0.5)(dense3)\n",
        "\n",
        "    dense1_chroma=Dense(128, activation='relu',name='Hidden_11')(input_layer_chroma)\n",
        "    dropout1_chroma = Dropout(0.5)(dense1_chroma)\n",
        "\n",
        "    dense2_chroma=Dense(256, activation='relu',name='Hidden_21')(dropout1_chroma)\n",
        "    dropout2_chroma = Dropout(0.5)(dense2_chroma)\n",
        "\n",
        "    dense3_chroma=Dense(128, activation='relu',name='Hidden_31')(dropout2_chroma)\n",
        "    dropout3_chroma = Dropout(0.5)(dense3_chroma)\n",
        "    concat = Concatenate()([dropout3, dropout3_chroma])\n",
        "    m = tf.keras.layers.Flatten()(concat)\n",
        "\n",
        "    out_accent = Dense(2, activation='sigmoid',name='output_accent')(m)\n",
        "    out_gender = Dense(2, activation='sigmoid',name='output_gender')(m)\n",
        "\n",
        "\n",
        "    model_ffn = Model(inputs = [input_layer_mfcc,input_layer_chroma] ,outputs=[out_accent, out_gender])\n",
        "    return model_ffn"
      ],
      "metadata": {
        "execution": {
          "iopub.status.busy": "2022-04-11T23:50:08.285119Z",
          "iopub.execute_input": "2022-04-11T23:50:08.285398Z",
          "iopub.status.idle": "2022-04-11T23:50:08.29977Z",
          "shell.execute_reply.started": "2022-04-11T23:50:08.285366Z",
          "shell.execute_reply": "2022-04-11T23:50:08.298928Z"
        },
        "trusted": true,
        "id": "bG4D_yK5jcXN"
      },
      "execution_count": null,
      "outputs": []
    },
    {
      "cell_type": "code",
      "source": [
        "model_ffn = ffn_multiinputs()"
      ],
      "metadata": {
        "execution": {
          "iopub.status.busy": "2022-04-11T23:50:09.350519Z",
          "iopub.execute_input": "2022-04-11T23:50:09.351276Z",
          "iopub.status.idle": "2022-04-11T23:50:09.533344Z",
          "shell.execute_reply.started": "2022-04-11T23:50:09.351236Z",
          "shell.execute_reply": "2022-04-11T23:50:09.53226Z"
        },
        "trusted": true,
        "id": "LGJ0PfXwjcXO"
      },
      "execution_count": null,
      "outputs": []
    },
    {
      "cell_type": "code",
      "source": [
        "model_ffn.summary()"
      ],
      "metadata": {
        "execution": {
          "iopub.status.busy": "2022-04-11T23:50:17.05178Z",
          "iopub.execute_input": "2022-04-11T23:50:17.052119Z",
          "iopub.status.idle": "2022-04-11T23:50:17.069882Z",
          "shell.execute_reply.started": "2022-04-11T23:50:17.052082Z",
          "shell.execute_reply": "2022-04-11T23:50:17.068951Z"
        },
        "trusted": true,
        "id": "WVHwNJs6jcXO"
      },
      "execution_count": null,
      "outputs": []
    },
    {
      "cell_type": "code",
      "source": [
        "model_ffn.compile(optimizer='Adam',loss={'output_accent':'binary_crossentropy','output_gender': 'binary_crossentropy'}, metrics ={'output_accent': 'accuracy', 'output_gender': 'accuracy'})"
      ],
      "metadata": {
        "execution": {
          "iopub.status.busy": "2022-04-11T22:34:27.906281Z",
          "iopub.execute_input": "2022-04-11T22:34:27.906567Z",
          "iopub.status.idle": "2022-04-11T22:34:27.917154Z",
          "shell.execute_reply.started": "2022-04-11T22:34:27.906537Z",
          "shell.execute_reply": "2022-04-11T22:34:27.916411Z"
        },
        "trusted": true,
        "id": "Id2PwL8ujcXO"
      },
      "execution_count": null,
      "outputs": []
    },
    {
      "cell_type": "code",
      "source": [
        "## Training my model\n",
        "from tensorflow.keras.callbacks import ModelCheckpoint\n",
        "from datetime import datetime\n",
        "\n",
        "num_epochs = 35\n",
        "num_batch_size = 32\n",
        "\n",
        "checkpointer = ModelCheckpoint(filepath=OUTPUT_DIR + 'saved_models/multitask_multiinput_classification_ffn.h5',\n",
        "                               verbose=1, save_best_only=True,patience=10, monitor='val_loss', mode='min')\n",
        "early_stopping = EarlyStopping(monitor=\"val_loss\", mode=\"min\", patience=5)\n",
        "\n",
        "start = datetime.now()\n",
        "\n",
        "history_multitask_crnn2 = model_ffn.fit({\"Input\": X_train_mfcc, \"Input2\": X_train_chroma}, {\"output_accent\": y_accent_train, \"output_gender\": y_gender_train},validation_data=({\"Input\": X_val_mfcc, \"Input2\": X_val_chroma},{\"output_accent\": y_accent_val, \"output_gender\": y_gender_val}),\n",
        "                        batch_size=num_batch_size, epochs=num_epochs, callbacks=[checkpointer, early_stopping], verbose=1)\n",
        "\n",
        "\n",
        "duration = datetime.now() - start\n",
        "print(\"Training completed in time: \", duration)"
      ],
      "metadata": {
        "execution": {
          "iopub.status.busy": "2022-04-11T22:34:29.002274Z",
          "iopub.execute_input": "2022-04-11T22:34:29.003088Z",
          "iopub.status.idle": "2022-04-11T22:34:39.116853Z",
          "shell.execute_reply.started": "2022-04-11T22:34:29.003052Z",
          "shell.execute_reply": "2022-04-11T22:34:39.116066Z"
        },
        "trusted": true,
        "id": "CaaOPBsOjcXP"
      },
      "execution_count": null,
      "outputs": []
    },
    {
      "cell_type": "code",
      "source": [
        "from keras.models import load_model\n",
        "crnn_multi_model = load_model('/kaggle/working/saved_models/multitask_multiinput_classification_ffn.h5')\n",
        "results_multitask_crnn = crnn_multi_model.evaluate({\"Input\": X_test_mfcc, \"Input2\": X_test_chroma}, {\"output_accent\": y_accent_test, \"output_gender\": y_gender_test})\n",
        "print(results_multitask_crnn)"
      ],
      "metadata": {
        "execution": {
          "iopub.status.busy": "2022-04-11T22:34:44.212654Z",
          "iopub.execute_input": "2022-04-11T22:34:44.213192Z",
          "iopub.status.idle": "2022-04-11T22:34:44.946112Z",
          "shell.execute_reply.started": "2022-04-11T22:34:44.213157Z",
          "shell.execute_reply": "2022-04-11T22:34:44.9452Z"
        },
        "trusted": true,
        "id": "5ecC0QbSjcXQ"
      },
      "execution_count": null,
      "outputs": []
    },
    {
      "cell_type": "markdown",
      "source": [
        "### CNN with multi inputs"
      ],
      "metadata": {
        "id": "2zG0mwK_jcXR"
      }
    },
    {
      "cell_type": "code",
      "source": [
        "def create_cnn_model2():\n",
        "    # Create CNN model\n",
        "    input_layer_mfcc = Input(shape=(12, 862,1), name='Input')\n",
        "    input_layer_chroma = Input(shape=(12, 862,1), name='Input2')\n",
        "    # conv 1\n",
        "    conv = Conv2D(16, 3, padding='same', activation='relu')(input_layer_mfcc)\n",
        "    batchnorm = BatchNormalization()(conv)\n",
        "    maxpool = MaxPooling2D(pool_size=(2, 2))(batchnorm)\n",
        "    batchnorm1 = BatchNormalization()(maxpool)\n",
        "    # conv 2\n",
        "    conv1 = Conv2D(16, 3, padding='same', activation='relu')(batchnorm1)\n",
        "    batchnorm2 = BatchNormalization()(conv1)\n",
        "    maxpool1 = MaxPooling2D(pool_size=(2, 2))(batchnorm1)\n",
        "    batchnorm3 = BatchNormalization()(maxpool1)\n",
        "    # conv 3\n",
        "    conv2 = Conv2D(128, 3, padding='same', activation='relu')(batchnorm3)\n",
        "    batchnorm4 = BatchNormalization()(conv2)\n",
        "    maxpool2 = MaxPooling2D(pool_size=(2, 2))(batchnorm4)\n",
        "    batchnorm5 = BatchNormalization()(maxpool2)\n",
        "\n",
        "    conv_chroma = Conv2D(16, 3, padding='same', activation='relu')(input_layer_chroma)\n",
        "    batchnorm_chroma = BatchNormalization()(conv_chroma)\n",
        "    maxpool_chroma = MaxPooling2D(pool_size=(2, 2))(batchnorm_chroma)\n",
        "    batchnorm1_chroma = BatchNormalization()(maxpool_chroma)\n",
        "    # conv 2\n",
        "    conv1_chroma = Conv2D(16, 3, padding='same', activation='relu')(batchnorm1_chroma)\n",
        "    batchnorm2_chroma = BatchNormalization()(conv1_chroma)\n",
        "    maxpool1_chroma = MaxPooling2D(pool_size=(2, 2))(batchnorm1_chroma)\n",
        "    batchnorm3_chroma = BatchNormalization()(maxpool1_chroma)\n",
        "    # conv 3\n",
        "    conv2_chroma = Conv2D(128, 3, padding='same', activation='relu')(batchnorm3_chroma)\n",
        "    batchnorm4_chroma = BatchNormalization()(conv2_chroma)\n",
        "    maxpool2_chroma = MaxPooling2D(pool_size=(2, 2))(batchnorm4_chroma)\n",
        "    batchnorm5_chroma = BatchNormalization()(maxpool2_chroma)\n",
        "\n",
        "    concat = Concatenate()([batchnorm5, batchnorm5_chroma])\n",
        "\n",
        "    # flatten\n",
        "    flatten = Flatten()(concat)\n",
        "#     concat = Concatenate()([input_layer_mfcc, input_layer_chroma])\n",
        "#     dense = Dense(64, activation='relu',name='Hidden_1')(flatten)\n",
        "#     dropout = Dropout(0.5)(dense)\n",
        "    # output\n",
        "    out_accent = Dense(2, activation='sigmoid',name='output_accent')(flatten)\n",
        "    out_gender = Dense(2, activation='sigmoid',name='output_gender')(flatten)\n",
        "    model = Model(inputs = [input_layer_mfcc,input_layer_chroma] ,outputs=[out_accent, out_gender])\n",
        "    return model"
      ],
      "metadata": {
        "execution": {
          "iopub.status.busy": "2022-04-11T22:45:13.36022Z",
          "iopub.execute_input": "2022-04-11T22:45:13.360588Z",
          "iopub.status.idle": "2022-04-11T22:45:13.375154Z",
          "shell.execute_reply.started": "2022-04-11T22:45:13.360554Z",
          "shell.execute_reply": "2022-04-11T22:45:13.374297Z"
        },
        "trusted": true,
        "id": "tw4ygB8bjcXR"
      },
      "execution_count": null,
      "outputs": []
    },
    {
      "cell_type": "code",
      "source": [
        "multinput_cnn_multi = create_cnn_model2()"
      ],
      "metadata": {
        "execution": {
          "iopub.status.busy": "2022-04-11T22:45:13.961464Z",
          "iopub.execute_input": "2022-04-11T22:45:13.961856Z",
          "iopub.status.idle": "2022-04-11T22:45:14.150809Z",
          "shell.execute_reply.started": "2022-04-11T22:45:13.961827Z",
          "shell.execute_reply": "2022-04-11T22:45:14.150014Z"
        },
        "trusted": true,
        "id": "fVe_JZFNjcXS"
      },
      "execution_count": null,
      "outputs": []
    },
    {
      "cell_type": "code",
      "source": [
        "multinput_cnn_multi.compile(optimizer='Adam',loss={'output_accent':'binary_crossentropy','output_gender': 'binary_crossentropy'}, metrics ={'output_accent': 'accuracy', 'output_gender': 'accuracy'})"
      ],
      "metadata": {
        "execution": {
          "iopub.status.busy": "2022-04-11T22:45:14.563333Z",
          "iopub.execute_input": "2022-04-11T22:45:14.563605Z",
          "iopub.status.idle": "2022-04-11T22:45:14.573105Z",
          "shell.execute_reply.started": "2022-04-11T22:45:14.563577Z",
          "shell.execute_reply": "2022-04-11T22:45:14.572175Z"
        },
        "trusted": true,
        "id": "SxqUWryajcXT"
      },
      "execution_count": null,
      "outputs": []
    },
    {
      "cell_type": "code",
      "source": [
        "## Training my model\n",
        "from tensorflow.keras.callbacks import ModelCheckpoint\n",
        "from datetime import datetime\n",
        "\n",
        "num_epochs = 35\n",
        "num_batch_size = 32\n",
        "\n",
        "checkpointer = ModelCheckpoint(filepath=OUTPUT_DIR + 'saved_models/multitask_multiinput_classification_cnn.h5',\n",
        "                               verbose=1, save_best_only=True,patience=10, monitor='val_loss', mode='min')\n",
        "early_stopping = EarlyStopping(monitor=\"val_loss\", mode=\"min\", patience=5)\n",
        "\n",
        "start = datetime.now()\n",
        "\n",
        "history_multinput_cnn_multi = multinput_cnn_multi.fit({\"Input\": X_train_mfcc, \"Input2\": X_train_chroma}, {\"output_accent\": y_accent_train, \"output_gender\": y_gender_train},validation_data=({\"Input\": X_val_mfcc, \"Input2\": X_val_chroma},{\"output_accent\": y_accent_val, \"output_gender\": y_gender_val}),\n",
        "                        batch_size=num_batch_size, epochs=num_epochs, callbacks=[checkpointer, early_stopping], verbose=1)\n",
        "\n",
        "\n",
        "duration = datetime.now() - start\n",
        "print(\"Training completed in time: \", duration)"
      ],
      "metadata": {
        "execution": {
          "iopub.status.busy": "2022-04-11T22:45:15.060759Z",
          "iopub.execute_input": "2022-04-11T22:45:15.06161Z",
          "iopub.status.idle": "2022-04-11T22:45:34.717399Z",
          "shell.execute_reply.started": "2022-04-11T22:45:15.061561Z",
          "shell.execute_reply": "2022-04-11T22:45:34.71648Z"
        },
        "trusted": true,
        "id": "pbWuF03EjcXT"
      },
      "execution_count": null,
      "outputs": []
    },
    {
      "cell_type": "code",
      "source": [
        "from keras.models import load_model\n",
        "crnn_multi_model = load_model('/kaggle/working/saved_models/multitask_multiinput_classification_cnn.h5')\n",
        "results_multitask_crnn = crnn_multi_model.evaluate({\"Input\": X_test_mfcc, \"Input2\": X_test_chroma}, {\"output_accent\": y_accent_test, \"output_gender\": y_gender_test})\n",
        "print(results_multitask_crnn)"
      ],
      "metadata": {
        "execution": {
          "iopub.status.busy": "2022-04-11T22:46:15.37295Z",
          "iopub.execute_input": "2022-04-11T22:46:15.373242Z",
          "iopub.status.idle": "2022-04-11T22:46:16.332154Z",
          "shell.execute_reply.started": "2022-04-11T22:46:15.37321Z",
          "shell.execute_reply": "2022-04-11T22:46:16.331222Z"
        },
        "trusted": true,
        "id": "gr1jbKHVjcXa"
      },
      "execution_count": null,
      "outputs": []
    },
    {
      "cell_type": "code",
      "source": [
        "def create_cnn_model2():\n",
        "    # Create CNN model\n",
        "#     input_layer_mfcc = Input(shape=(12, 862,1), name='Input')\n",
        "    input_layer_chroma = Input(shape=(12, 862,1), name='Input2')\n",
        "#     # conv 1\n",
        "#     conv = Conv2D(32, 3, padding='same', activation='relu')(input_layer_mfcc)\n",
        "#     batchnorm = BatchNormalization()(conv)\n",
        "#     maxpool = MaxPooling2D(pool_size=(2, 2))(batchnorm)\n",
        "#     batchnorm1 = BatchNormalization()(maxpool)\n",
        "#     # conv 2\n",
        "#     conv1 = Conv2D(32, 3, padding='same', activation='relu')(batchnorm1)\n",
        "#     batchnorm2 = BatchNormalization()(conv1)\n",
        "#     maxpool1 = MaxPooling2D(pool_size=(2, 2))(batchnorm1)\n",
        "#     batchnorm3 = BatchNormalization()(maxpool1)\n",
        "#     # conv 3\n",
        "#     conv2 = Conv2D(128, 3, padding='same', activation='relu')(batchnorm3)\n",
        "#     batchnorm4 = BatchNormalization()(conv2)\n",
        "#     maxpool2 = MaxPooling2D(pool_size=(2, 2))(batchnorm4)\n",
        "#     batchnorm5 = BatchNormalization()(maxpool2)\n",
        "\n",
        "    conv_chroma = Conv2D(32, 3, padding='same', activation='relu')(input_layer_chroma)\n",
        "    batchnorm_chroma = BatchNormalization()(conv_chroma)\n",
        "    maxpool_chroma = MaxPooling2D(pool_size=(2, 2))(batchnorm_chroma)\n",
        "    batchnorm1_chroma = BatchNormalization()(maxpool_chroma)\n",
        "    # conv 2\n",
        "    conv1_chroma = Conv2D(64, 3, padding='same', activation='relu')(batchnorm1_chroma)\n",
        "    batchnorm2_chroma = BatchNormalization()(conv1_chroma)\n",
        "    maxpool1_chroma = MaxPooling2D(pool_size=(2, 2))(batchnorm1_chroma)\n",
        "    batchnorm3_chroma = BatchNormalization()(maxpool1_chroma)\n",
        "    # conv 3\n",
        "    conv2_chroma = Conv2D(128, 3, padding='same', activation='relu')(batchnorm3_chroma)\n",
        "    batchnorm4_chroma = BatchNormalization()(conv2_chroma)\n",
        "    maxpool2_chroma = MaxPooling2D(pool_size=(2, 2))(batchnorm4_chroma)\n",
        "    batchnorm5_chroma = BatchNormalization()(maxpool2_chroma)\n",
        "\n",
        "#     concat = Concatenate()([batchnorm5, batchnorm5_chroma])\n",
        "\n",
        "    # flatten\n",
        "    flatten = Flatten()(batchnorm5_chroma)\n",
        "#     concat = Concatenate()([input_layer_mfcc, input_layer_chroma])\n",
        "    dense = Dense(64, activation='relu',name='Hidden_1')(flatten)\n",
        "    dropout = Dropout(0.5)(dense)\n",
        "    # output\n",
        "    out = Dense(2, activation='sigmoid',name='output')(dropout)\n",
        "    model = Model(inputs = input_layer_chroma ,outputs=out)\n",
        "    return model"
      ],
      "metadata": {
        "execution": {
          "iopub.status.busy": "2022-04-11T22:38:53.132185Z",
          "iopub.execute_input": "2022-04-11T22:38:53.13248Z",
          "iopub.status.idle": "2022-04-11T22:38:53.140207Z",
          "shell.execute_reply.started": "2022-04-11T22:38:53.132452Z",
          "shell.execute_reply": "2022-04-11T22:38:53.139684Z"
        },
        "trusted": true,
        "id": "upiJZ2jgjcXa"
      },
      "execution_count": null,
      "outputs": []
    },
    {
      "cell_type": "code",
      "source": [
        "multinput_cnn_accent = create_cnn_model2()"
      ],
      "metadata": {
        "execution": {
          "iopub.status.busy": "2022-04-08T17:46:36.378001Z",
          "iopub.execute_input": "2022-04-08T17:46:36.378827Z",
          "iopub.status.idle": "2022-04-08T17:46:36.517407Z",
          "shell.execute_reply.started": "2022-04-08T17:46:36.378774Z",
          "shell.execute_reply": "2022-04-08T17:46:36.516675Z"
        },
        "trusted": true,
        "id": "HlwliO1OjcXc"
      },
      "execution_count": null,
      "outputs": []
    },
    {
      "cell_type": "code",
      "source": [
        "multinput_cnn_accent.compile(optimizer='Adam',loss='binary_crossentropy', metrics =['accuracy'])"
      ],
      "metadata": {
        "execution": {
          "iopub.status.busy": "2022-04-08T17:46:37.137766Z",
          "iopub.execute_input": "2022-04-08T17:46:37.138261Z",
          "iopub.status.idle": "2022-04-08T17:46:37.147922Z",
          "shell.execute_reply.started": "2022-04-08T17:46:37.138223Z",
          "shell.execute_reply": "2022-04-08T17:46:37.14726Z"
        },
        "trusted": true,
        "id": "sLt200BejcXd"
      },
      "execution_count": null,
      "outputs": []
    },
    {
      "cell_type": "code",
      "source": [
        "## Training my model\n",
        "from tensorflow.keras.callbacks import ModelCheckpoint\n",
        "from datetime import datetime\n",
        "\n",
        "num_epochs = 35\n",
        "num_batch_size = 32\n",
        "\n",
        "checkpointer = ModelCheckpoint(filepath=OUTPUT_DIR + 'saved_models/multitask_multiinput_classification_ffn.h5',\n",
        "                               verbose=1, save_best_only=True,patience=10, monitor='val_loss', mode='min')\n",
        "early_stopping = EarlyStopping(monitor=\"val_loss\", mode=\"min\", patience=5)\n",
        "\n",
        "start = datetime.now()\n",
        "\n",
        "history_multitask_crnn2 = multinput_cnn_accent.fit({\"Input\": X_train_mfcc, \"Input2\": X_train_chroma}, y_accent_train,validation_data=({\"Input\": X_val_mfcc, \"Input2\": X_val_chroma},y_accent_val),batch_size=num_batch_size, epochs=num_epochs, callbacks=[checkpointer, early_stopping], verbose=1)\n",
        "\n",
        "\n",
        "duration = datetime.now() - start\n",
        "print(\"Training completed in time: \", duration)"
      ],
      "metadata": {
        "execution": {
          "iopub.status.busy": "2022-04-08T17:46:43.025367Z",
          "iopub.execute_input": "2022-04-08T17:46:43.02566Z",
          "iopub.status.idle": "2022-04-08T17:47:01.621793Z",
          "shell.execute_reply.started": "2022-04-08T17:46:43.025629Z",
          "shell.execute_reply": "2022-04-08T17:47:01.620731Z"
        },
        "trusted": true,
        "id": "cPdY7uw1jcXe"
      },
      "execution_count": null,
      "outputs": []
    },
    {
      "cell_type": "code",
      "source": [],
      "metadata": {
        "id": "QdzcL1XljcXf"
      },
      "execution_count": null,
      "outputs": []
    }
  ]
}